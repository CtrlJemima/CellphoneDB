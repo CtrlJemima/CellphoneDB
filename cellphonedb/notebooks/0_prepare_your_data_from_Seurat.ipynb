{
 "cells": [
  {
   "cell_type": "markdown",
   "metadata": {},
   "source": [
    "# Example 2\n",
    "## Step 0 - prepare your data\n",
    "\n",
    "Prepare cellphoneDB inputs starting from a seurat object object"
   ]
  },
  {
   "cell_type": "code",
   "execution_count": 2,
   "metadata": {},
   "outputs": [
    {
     "name": "stderr",
     "output_type": "stream",
     "text": [
      "Registered S3 methods overwritten by 'SeuratObject':\n",
      "  method                     from  \n",
      "  $.JackStrawData            Seurat\n",
      "  $.Seurat                   Seurat\n",
      "  $.SeuratCommand            Seurat\n",
      "  $<-.Seurat                 Seurat\n",
      "  [.Assay                    Seurat\n",
      "  [.DimReduc                 Seurat\n",
      "  [.Seurat                   Seurat\n",
      "  [.SeuratCommand            Seurat\n",
      "  [.SpatialImage             Seurat\n",
      "  [[.Assay                   Seurat\n",
      "  [[.DimReduc                Seurat\n",
      "  [[.Seurat                  Seurat\n",
      "  levels<-.Seurat            Seurat\n",
      "  .DollarNames.JackStrawData Seurat\n",
      "  .DollarNames.Seurat        Seurat\n",
      "  .DollarNames.SeuratCommand Seurat\n",
      "  as.list.SeuratCommand      Seurat\n",
      "  as.logical.JackStrawData   Seurat\n",
      "  dim.Assay                  Seurat\n",
      "  dim.DimReduc               Seurat\n",
      "  dim.Neighbor               Seurat\n",
      "  dim.Seurat                 Seurat\n",
      "  dim.SpatialImage           Seurat\n",
      "  dimnames.Assay             Seurat\n",
      "  dimnames.DimReduc          Seurat\n",
      "  dimnames.Seurat            Seurat\n",
      "  droplevels.Seurat          Seurat\n",
      "  length.DimReduc            Seurat\n",
      "  levels.Seurat              Seurat\n",
      "  merge.Assay                Seurat\n",
      "  merge.Seurat               Seurat\n",
      "  names.DimReduc             Seurat\n",
      "  names.Seurat               Seurat\n",
      "  print.DimReduc             Seurat\n",
      "  subset.Assay               Seurat\n",
      "  subset.DimReduc            Seurat\n",
      "  subset.Seurat              Seurat\n",
      "  subset.SpatialImage        Seurat\n",
      "\n",
      "\n",
      "Attaching package: ‘SeuratObject’\n",
      "\n",
      "\n",
      "The following objects are masked from ‘package:Seurat’:\n",
      "\n",
      "    AddMetaData, as.Graph, as.Neighbor, as.Seurat, as.sparse, Assays,\n",
      "    Cells, CellsByIdentities, Command, CreateAssayObject,\n",
      "    CreateDimReducObject, CreateSeuratObject, DefaultAssay,\n",
      "    DefaultAssay<-, Distances, Embeddings, FetchData, GetAssayData,\n",
      "    GetImage, GetTissueCoordinates, HVFInfo, Idents, Idents<-, Images,\n",
      "    Index, Index<-, Indices, IsGlobal, JS, JS<-, Key, Key<-, Loadings,\n",
      "    Loadings<-, LogSeuratCommand, Misc, Misc<-, Neighbors, pbmc_small,\n",
      "    Project, Project<-, Radius, Reductions, RenameAssays, RenameCells,\n",
      "    RenameIdents, ReorderIdent, RowMergeSparseMatrices, SetAssayData,\n",
      "    SetIdent, SpatiallyVariableFeatures, StashIdent, Stdev, SVFInfo,\n",
      "    Tool, Tool<-, UpdateSeuratObject, VariableFeatures,\n",
      "    VariableFeatures<-, WhichCells\n",
      "\n",
      "\n"
     ]
    }
   ],
   "source": [
    "library(Seurat)\n",
    "library(SeuratObject)\n",
    "library(Matrix)"
   ]
  },
  {
   "cell_type": "markdown",
   "metadata": {},
   "source": [
    "### 1. Load seurat object\n",
    "\n",
    "The seurat object contains counts that have been normalized (per cell) and log-transformed.\n",
    "If your data are raw counts, please normalize accordingly"
   ]
  },
  {
   "cell_type": "code",
   "execution_count": 3,
   "metadata": {},
   "outputs": [],
   "source": [
    "so = readRDS('endometrium_example_counts_seurat.rds')"
   ]
  },
  {
   "cell_type": "code",
   "execution_count": 4,
   "metadata": {},
   "outputs": [
    {
     "data": {
      "text/plain": [
       "An object of class Seurat \n",
       "20975 features across 1949 samples within 1 assay \n",
       "Active assay: RNA (20975 features, 0 variable features)"
      ]
     },
     "metadata": {},
     "output_type": "display_data"
    }
   ],
   "source": [
    "so"
   ]
  },
  {
   "cell_type": "code",
   "execution_count": 5,
   "metadata": {},
   "outputs": [],
   "source": [
    "Idents(so) = so$cell_type"
   ]
  },
  {
   "cell_type": "code",
   "execution_count": 13,
   "metadata": {},
   "outputs": [],
   "source": [
    "# # If your data is not normalize, do it accordinlgy\n",
    "# # For example\n",
    "# so <- NormalizeData(object = so)"
   ]
  },
  {
   "cell_type": "markdown",
   "metadata": {},
   "source": [
    "### 2. Write gene expression in mtx format\n"
   ]
  },
  {
   "cell_type": "code",
   "execution_count": 6,
   "metadata": {},
   "outputs": [
    {
     "data": {
      "text/plain": [
       "NULL"
      ]
     },
     "metadata": {},
     "output_type": "display_data"
    }
   ],
   "source": [
    "# Save normalised counts - NOT scaled!\n",
    "writeMM(so@assays$RNA@data, file = 'endometrium_example_counts_mtx/matrix.mtx')\n",
    "# save gene and cell names\n",
    "write(x = rownames(so@assays$RNA@data), file = \"endometrium_example_counts_mtx/features.tsv\")\n",
    "write(x = colnames(so@assays$RNA@data), file = \"endometrium_example_counts_mtx/barcodes.tsv\")"
   ]
  },
  {
   "cell_type": "markdown",
   "metadata": {},
   "source": [
    "### 3. Generate your meta\n",
    "\n",
    "In this example, our input is an anndata containing the cluster/celltype information in `metadat$'cell_type'`\n",
    "\n",
    "The object also has `metadat$'lineage'` information wich will be used below for a hierarchical DEGs approach. "
   ]
  },
  {
   "cell_type": "code",
   "execution_count": 14,
   "metadata": {},
   "outputs": [
    {
     "data": {
      "text/plain": [
       "\n",
       "      Endothelial ACKR1      Endothelial SEMA3G           Fibroblast C7 \n",
       "                    100                     100                     100 \n",
       "          Fibroblast dS           Fibroblast eS                Lymphoid \n",
       "                    100                     100                     100 \n",
       "                Myeloid                PV MYH11               PV STEAP4 \n",
       "                    100                     100                     100 \n",
       "           epi_Ciliated       epi_Ciliated LRG5           epi_Glandular \n",
       "                    100                     100                     100 \n",
       "epi_Glandular_secretory           epi_Lumenal 1           epi_Lumenal 2 \n",
       "                    100                     100                     100 \n",
       "       epi_Pre-ciliated                epi_SOX9           epi_SOX9_LGR5 \n",
       "                     49                     100                     100 \n",
       "        epi_SOX9_prolif                    uSMC \n",
       "                    100                     100 "
      ]
     },
     "metadata": {},
     "output_type": "display_data"
    }
   ],
   "source": [
    "table(so@meta.data$cell_type)"
   ]
  },
  {
   "cell_type": "code",
   "execution_count": 8,
   "metadata": {},
   "outputs": [],
   "source": [
    "so@meta.data$Cell = rownames(so@meta.data)\n",
    "df = so@meta.data[, c('Cell', 'cell_type')]\n",
    "write.table(df, file ='endometrium_example_meta.tsv', sep = '\\t', quote = F, row.names = F)"
   ]
  },
  {
   "cell_type": "markdown",
   "metadata": {},
   "source": [
    "### 4. Compute DEGs (optional)\n",
    "\n",
    "Use Seurat `FindAllMarkers` to compute differentially expressed genes and extract the corresponding data frame `DEGs`.\n",
    "Here there are three options you may be interested on:\n",
    "1. Identify DEGs for each cell type (compare cell type vs rest, most likely option) \n",
    "2. Identify DEGs for each cell type using a per-lineage hierarchycal approach (compare cell type vs rest in the lineage, such as in endometrium paper Garcia-Alonso et al 2021)\n",
    "\n",
    "In the endometrium paper (Garcia-Alonso et al 2021) we're interested in the differences within the stromal and epithelial lineages, rather than the commonalities (example, what is specific of epithelials in the glands compared to epithelials in the lumen). The reason is that epithelial and stromal subtypes vary in space and type and thus we wanna extract the subtile differences within the lineage to better understand their differential location/ biological role.\n"
   ]
  },
  {
   "cell_type": "code",
   "execution_count": 16,
   "metadata": {},
   "outputs": [
    {
     "name": "stderr",
     "output_type": "stream",
     "text": [
      "Computing DEGs within linage Epithelial\n",
      "\n",
      "For a more efficient implementation of the Wilcoxon Rank Sum Test,\n",
      "(default method for FindMarkers) please install the limma package\n",
      "--------------------------------------------\n",
      "install.packages('BiocManager')\n",
      "BiocManager::install('limma')\n",
      "--------------------------------------------\n",
      "After installation of limma, Seurat will automatically use the more \n",
      "efficient implementation (no further action necessary).\n",
      "This message will be shown once per session\n",
      "\n"
     ]
    }
   ],
   "source": [
    "## OPTION 1 - compute DEGs for all cell types\n",
    "## Extract DEGs for each cell_type\n",
    "# DEGs <- FindAllMarkers(so, \n",
    "#                        test.use = 'LR', \n",
    "#                        verbose = F, \n",
    "#                        only.pos = T, \n",
    "#                        random.seed = 1, \n",
    "#                        logfc.threshold = 0.2, \n",
    "#                        min.pct = 0.1, \n",
    "#                        return.thresh = 0.05)\n",
    "\n",
    "\n",
    "# OPTION 2 - optional - Re-compute  hierarchical (per lineage) DEGs for Epithelial and Stromal lineages\n",
    "DEGs = c()\n",
    "for( lin in c('Epithelial', 'Stromal') ){\n",
    "    message('Computing DEGs within linage ', lin)\n",
    "    so_in_lineage = subset(so, cells = Cells(so)[ so$lineage == lin ] )\n",
    "    celltye_in_lineage = unique(so$cell_type[ so$lineage == lin ])\n",
    "    DEGs_lin = FindAllMarkers(so_in_lineage,\n",
    "                       verbose = F, \n",
    "                       only.pos = T, \n",
    "                       random.seed = 1, \n",
    "                       logfc.threshold = 0, \n",
    "                       min.pct = 0.1, \n",
    "                       return.thresh = 0.05)\n",
    "    DEGs = rbind(DEGs_lin, DEGs)\n",
    "}"
   ]
  },
  {
   "cell_type": "code",
   "execution_count": 18,
   "metadata": {},
   "outputs": [
    {
     "data": {
      "text/html": [
       "TRUE"
      ],
      "text/latex": [
       "TRUE"
      ],
      "text/markdown": [
       "TRUE"
      ],
      "text/plain": [
       "[1] TRUE"
      ]
     },
     "metadata": {},
     "output_type": "display_data"
    }
   ],
   "source": [
    "'DKK1' %in% rownames(so@assays$RNA@counts)"
   ]
  },
  {
   "cell_type": "code",
   "execution_count": 10,
   "metadata": {},
   "outputs": [],
   "source": [
    "fDEGs = subset(DEGs, p_val_adj < 0.05 & avg_logFC > 0.1)\n",
    "\n",
    "# 1st column = cluster; 2nd column = gene \n",
    "fDEGs = fDEGs[, c('cluster', 'gene', 'p_val_adj', 'p_val', 'avg_logFC', 'pct.1', 'pct.2')] \n",
    "write.table(fDEGs, file ='endometrium_example_DEGs.tsv', sep = '\\t', quote = F, row.names = F)"
   ]
  },
  {
   "cell_type": "code",
   "execution_count": 12,
   "metadata": {},
   "outputs": [
    {
     "data": {
      "text/html": [
       "<table class=\"dataframe\">\n",
       "<caption>A data.frame: 6 × 7</caption>\n",
       "<thead>\n",
       "\t<tr><th></th><th scope=col>cluster</th><th scope=col>gene</th><th scope=col>p_val_adj</th><th scope=col>p_val</th><th scope=col>avg_logFC</th><th scope=col>pct.1</th><th scope=col>pct.2</th></tr>\n",
       "\t<tr><th></th><th scope=col>&lt;fct&gt;</th><th scope=col>&lt;chr&gt;</th><th scope=col>&lt;dbl&gt;</th><th scope=col>&lt;dbl&gt;</th><th scope=col>&lt;dbl&gt;</th><th scope=col>&lt;dbl&gt;</th><th scope=col>&lt;dbl&gt;</th></tr>\n",
       "</thead>\n",
       "<tbody>\n",
       "\t<tr><th scope=row>GSN</th><td>Fibroblast C7</td><td>GSN   </td><td>4.870313e-35</td><td>2.321961e-39</td><td>1.9457498</td><td>0.91</td><td>0.725</td></tr>\n",
       "\t<tr><th scope=row>IGFBP5</th><td>Fibroblast C7</td><td>IGFBP5</td><td>8.424704e-32</td><td>4.016545e-36</td><td>2.4430177</td><td>0.94</td><td>0.520</td></tr>\n",
       "\t<tr><th scope=row>RPL21</th><td>Fibroblast C7</td><td>RPL21 </td><td>5.587104e-31</td><td>2.663697e-35</td><td>0.9103342</td><td>1.00</td><td>0.990</td></tr>\n",
       "\t<tr><th scope=row>RPS27</th><td>Fibroblast C7</td><td>RPS27 </td><td>1.667606e-29</td><td>7.950448e-34</td><td>0.6828038</td><td>1.00</td><td>1.000</td></tr>\n",
       "\t<tr><th scope=row>ASPN</th><td>Fibroblast C7</td><td>ASPN  </td><td>6.253001e-26</td><td>2.981168e-30</td><td>1.8471276</td><td>0.55</td><td>0.025</td></tr>\n",
       "\t<tr><th scope=row>C7</th><td>Fibroblast C7</td><td>C7    </td><td>2.526954e-24</td><td>1.204746e-28</td><td>1.9273415</td><td>0.51</td><td>0.020</td></tr>\n",
       "</tbody>\n",
       "</table>\n"
      ],
      "text/latex": [
       "A data.frame: 6 × 7\n",
       "\\begin{tabular}{r|lllllll}\n",
       "  & cluster & gene & p\\_val\\_adj & p\\_val & avg\\_logFC & pct.1 & pct.2\\\\\n",
       "  & <fct> & <chr> & <dbl> & <dbl> & <dbl> & <dbl> & <dbl>\\\\\n",
       "\\hline\n",
       "\tGSN & Fibroblast C7 & GSN    & 4.870313e-35 & 2.321961e-39 & 1.9457498 & 0.91 & 0.725\\\\\n",
       "\tIGFBP5 & Fibroblast C7 & IGFBP5 & 8.424704e-32 & 4.016545e-36 & 2.4430177 & 0.94 & 0.520\\\\\n",
       "\tRPL21 & Fibroblast C7 & RPL21  & 5.587104e-31 & 2.663697e-35 & 0.9103342 & 1.00 & 0.990\\\\\n",
       "\tRPS27 & Fibroblast C7 & RPS27  & 1.667606e-29 & 7.950448e-34 & 0.6828038 & 1.00 & 1.000\\\\\n",
       "\tASPN & Fibroblast C7 & ASPN   & 6.253001e-26 & 2.981168e-30 & 1.8471276 & 0.55 & 0.025\\\\\n",
       "\tC7 & Fibroblast C7 & C7     & 2.526954e-24 & 1.204746e-28 & 1.9273415 & 0.51 & 0.020\\\\\n",
       "\\end{tabular}\n"
      ],
      "text/markdown": [
       "\n",
       "A data.frame: 6 × 7\n",
       "\n",
       "| <!--/--> | cluster &lt;fct&gt; | gene &lt;chr&gt; | p_val_adj &lt;dbl&gt; | p_val &lt;dbl&gt; | avg_logFC &lt;dbl&gt; | pct.1 &lt;dbl&gt; | pct.2 &lt;dbl&gt; |\n",
       "|---|---|---|---|---|---|---|---|\n",
       "| GSN | Fibroblast C7 | GSN    | 4.870313e-35 | 2.321961e-39 | 1.9457498 | 0.91 | 0.725 |\n",
       "| IGFBP5 | Fibroblast C7 | IGFBP5 | 8.424704e-32 | 4.016545e-36 | 2.4430177 | 0.94 | 0.520 |\n",
       "| RPL21 | Fibroblast C7 | RPL21  | 5.587104e-31 | 2.663697e-35 | 0.9103342 | 1.00 | 0.990 |\n",
       "| RPS27 | Fibroblast C7 | RPS27  | 1.667606e-29 | 7.950448e-34 | 0.6828038 | 1.00 | 1.000 |\n",
       "| ASPN | Fibroblast C7 | ASPN   | 6.253001e-26 | 2.981168e-30 | 1.8471276 | 0.55 | 0.025 |\n",
       "| C7 | Fibroblast C7 | C7     | 2.526954e-24 | 1.204746e-28 | 1.9273415 | 0.51 | 0.020 |\n",
       "\n"
      ],
      "text/plain": [
       "       cluster       gene   p_val_adj    p_val        avg_logFC pct.1 pct.2\n",
       "GSN    Fibroblast C7 GSN    4.870313e-35 2.321961e-39 1.9457498 0.91  0.725\n",
       "IGFBP5 Fibroblast C7 IGFBP5 8.424704e-32 4.016545e-36 2.4430177 0.94  0.520\n",
       "RPL21  Fibroblast C7 RPL21  5.587104e-31 2.663697e-35 0.9103342 1.00  0.990\n",
       "RPS27  Fibroblast C7 RPS27  1.667606e-29 7.950448e-34 0.6828038 1.00  1.000\n",
       "ASPN   Fibroblast C7 ASPN   6.253001e-26 2.981168e-30 1.8471276 0.55  0.025\n",
       "C7     Fibroblast C7 C7     2.526954e-24 1.204746e-28 1.9273415 0.51  0.020"
      ]
     },
     "metadata": {},
     "output_type": "display_data"
    }
   ],
   "source": [
    "head(fDEGs)"
   ]
  },
  {
   "cell_type": "markdown",
   "metadata": {},
   "source": [
    "### 4. Run cellphoneDB"
   ]
  },
  {
   "cell_type": "markdown",
   "metadata": {},
   "source": [
    "```\n",
    "cellphonedb method degs_analysis  \\\n",
    "    endometrium_example_meta.tsv  \\\n",
    "    endometrium_example_counts_mtx  \\\n",
    "    endometrium_example_DEGs.tsv  \\\n",
    "    --microenvs endometrium_example_microenviroments.tsv  \\ #optional\n",
    "    --counts-data hgnc_symbol  \\\n",
    "    --database database/database/cellphonedb_user_2021-06-29-11_41.db \\\n",
    "    --threshold 0.1 \n",
    "```"
   ]
  },
  {
   "cell_type": "code",
   "execution_count": 11,
   "metadata": {},
   "outputs": [
    {
     "data": {
      "text/plain": [
       "R version 4.0.3 (2020-10-10)\n",
       "Platform: x86_64-conda-linux-gnu (64-bit)\n",
       "Running under: Ubuntu 20.04.1 LTS\n",
       "\n",
       "Matrix products: default\n",
       "BLAS:   /home/jovyan/my-conda-envs/R_Seurat3/lib/libblas.so.3.8.0\n",
       "LAPACK: /home/jovyan/my-conda-envs/R_Seurat3/lib/liblapack.so.3.8.0\n",
       "\n",
       "locale:\n",
       " [1] LC_CTYPE=en_US.UTF-8       LC_NUMERIC=C              \n",
       " [3] LC_TIME=en_US.UTF-8        LC_COLLATE=en_US.UTF-8    \n",
       " [5] LC_MONETARY=en_US.UTF-8    LC_MESSAGES=en_US.UTF-8   \n",
       " [7] LC_PAPER=en_US.UTF-8       LC_NAME=C                 \n",
       " [9] LC_ADDRESS=C               LC_TELEPHONE=C            \n",
       "[11] LC_MEASUREMENT=en_US.UTF-8 LC_IDENTIFICATION=C       \n",
       "\n",
       "attached base packages:\n",
       "[1] stats     graphics  grDevices utils     datasets  methods   base     \n",
       "\n",
       "other attached packages:\n",
       "[1] Matrix_1.3-2       SeuratObject_4.0.0 Seurat_3.2.2      \n",
       "\n",
       "loaded via a namespace (and not attached):\n",
       "  [1] nlme_3.1-152         matrixStats_0.58.0   RcppAnnoy_0.0.18    \n",
       "  [4] RColorBrewer_1.1-2   httr_1.4.2           repr_1.1.3          \n",
       "  [7] sctransform_0.3.2    tools_4.0.3          utf8_1.2.1          \n",
       " [10] R6_2.5.0             irlba_2.3.3          rpart_4.1-15        \n",
       " [13] KernSmooth_2.23-18   uwot_0.1.10          mgcv_1.8-34         \n",
       " [16] DBI_1.1.1            lazyeval_0.2.2       colorspace_2.0-0    \n",
       " [19] tidyselect_1.1.0     gridExtra_2.3        compiler_4.0.3      \n",
       " [22] plotly_4.9.3         scales_1.1.1         spatstat.data_2.0-0 \n",
       " [25] lmtest_0.9-38        ggridges_0.5.3       pbapply_1.4-3       \n",
       " [28] goftest_1.2-2        spatstat_1.64-1      pbdZMQ_0.3-5        \n",
       " [31] stringr_1.4.0        digest_0.6.27        spatstat.utils_2.0-0\n",
       " [34] base64enc_0.1-3      pkgconfig_2.0.3      htmltools_0.5.1.1   \n",
       " [37] parallelly_1.23.0    fastmap_1.1.0        htmlwidgets_1.5.3   \n",
       " [40] rlang_0.4.10         shiny_1.6.0          generics_0.1.0      \n",
       " [43] zoo_1.8-9            jsonlite_1.7.2       ica_1.0-2           \n",
       " [46] dplyr_1.0.5          magrittr_2.0.1       patchwork_1.1.1     \n",
       " [49] Rcpp_1.0.6           IRkernel_1.1.1.9000  munsell_0.5.0       \n",
       " [52] fansi_0.4.2          abind_1.4-5          reticulate_1.18     \n",
       " [55] lifecycle_1.0.0      stringi_1.5.3        MASS_7.3-53.1       \n",
       " [58] Rtsne_0.15           plyr_1.8.6           grid_4.0.3          \n",
       " [61] parallel_4.0.3       listenv_0.8.0        promises_1.2.0.1    \n",
       " [64] ggrepel_0.9.1        crayon_1.4.1         deldir_0.2-10       \n",
       " [67] miniUI_0.1.1.1       lattice_0.20-41      IRdisplay_1.0       \n",
       " [70] cowplot_1.1.1        splines_4.0.3        tensor_1.5          \n",
       " [73] pillar_1.5.1         igraph_1.2.6         uuid_0.1-4          \n",
       " [76] future.apply_1.7.0   reshape2_1.4.4       codetools_0.2-18    \n",
       " [79] leiden_0.3.7         glue_1.4.2           evaluate_0.14       \n",
       " [82] data.table_1.14.0    vctrs_0.3.6          png_0.1-7           \n",
       " [85] httpuv_1.5.5         polyclip_1.10-0      gtable_0.3.0        \n",
       " [88] RANN_2.6.1           purrr_0.3.4          tidyr_1.1.3         \n",
       " [91] future_1.21.0        assertthat_0.2.1     ggplot2_3.3.3       \n",
       " [94] rsvd_1.0.3           mime_0.10            xtable_1.8-4        \n",
       " [97] later_1.1.0.1        survival_3.2-7       viridisLite_0.3.0   \n",
       "[100] tibble_3.1.0         cluster_2.1.1        globals_0.14.0      \n",
       "[103] fitdistrplus_1.1-3   ellipsis_0.3.1       ROCR_1.0-11         "
      ]
     },
     "metadata": {},
     "output_type": "display_data"
    }
   ],
   "source": [
    "sessionInfo()"
   ]
  },
  {
   "cell_type": "code",
   "execution_count": null,
   "metadata": {},
   "outputs": [],
   "source": []
  }
 ],
 "metadata": {
  "kernelspec": {
   "display_name": "R",
   "language": "R",
   "name": "ir"
  },
  "language_info": {
   "codemirror_mode": "r",
   "file_extension": ".r",
   "mimetype": "text/x-r-source",
   "name": "R",
   "pygments_lexer": "r",
   "version": "4.0.3"
  }
 },
 "nbformat": 4,
 "nbformat_minor": 4
}
