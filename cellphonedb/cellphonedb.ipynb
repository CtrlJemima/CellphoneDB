{
 "cells": [
  {
   "cell_type": "markdown",
   "metadata": {},
   "source": [
    " ![CellphoneDB Logo](https://www.cellphonedb.org/images/cellphonedb_logo_33.png) | CellphoneDB is a publicly available repository of curated receptors, ligands and their interactions. ||\n",
    " :------------- | :------------- | :-------------\n",
    "\n",
    "CellphoneDB includes subunit architecture for both ligands and receptors, representing heteromeric complexes accurately. This is crucial, as cell-cell communication relies on multi-subunit protein complexes that go beyond the binary representation used in most databases and studies.\n",
    "\n",
    "CellPhoneDB integrates existing datasets that pertain to cellular communication and new manually reviewed information. CellPhoneDB utilises information from the following data bases: [UniProt](https://www.uniprot.org/), [Ensembl](https://www.ensembl.org/), [PDB](https://www.ebi.ac.uk/pdbe/), [the IMEx consortium](https://www.imexconsortium.org/) and [IUPHAR](https://www.guidetopharmacology.org/).\n",
    "\n",
    "CellPhoneDB can be used to search for a particular ligand/receptor or interrogate your own single-cell transcriptomics data.\n",
    "\n"
   ]
  },
  {
   "cell_type": "markdown",
   "metadata": {},
   "source": [
    "## Install CellphoneDB"
   ]
  },
  {
   "cell_type": "code",
   "execution_count": null,
   "metadata": {},
   "outputs": [],
   "source": [
    "# %%capture\n",
    "import controller\n",
    "import os"
   ]
  },
  {
   "cell_type": "markdown",
   "metadata": {},
   "source": [
    "## Download CellphoneDB"
   ]
  },
  {
   "cell_type": "code",
   "execution_count": null,
   "metadata": {},
   "outputs": [],
   "source": [
    "from utils import db_utils\n",
    "# Download or create Database version <cellophonedb_version> into <user_dir_root>/releases/<cellophonedb_version>/data/cellphonedb.zip\n",
    "cellophonedb_version = \"v5.0.0\"\n",
    "# Set use_local_files to True if you wish to create cellphonedb.zip database file using \n",
    "# your own *_input.csv files in ~/.cpdb/releases/<cellophonedb_version>\n",
    "use_local_files=False\n",
    "user_dir_root = os.path.join(os.path.expanduser('~'),\".cpdb\")\n",
    "db_utils.create_db(user_dir_root, cellophonedb_version, use_local_files)\n",
    "# Load into memory CellphoneDB data\n",
    "interactions, genes, complex_composition, complex_expanded = \\\n",
    "    db_utils.get_interactions_genes_complex(user_dir_root, cellophonedb_version)"
   ]
  },
  {
   "cell_type": "markdown",
   "metadata": {},
   "source": [
    "## Search CellphoneDB Interactions"
   ]
  },
  {
   "cell_type": "code",
   "execution_count": null,
   "metadata": {},
   "outputs": [],
   "source": [
    "from utils import search_utils\n",
    "\n",
    "# Search CellphoneDB interactions by (a comma- or space-separated list of):\n",
    "# Ensembl ID (e.g. ENSG00000165029), Gene name (e.g. ABCA1), UniProt ID (e.g. KLRG2_HUMAN), \n",
    "# UniProt Accession (e.g. A4D1S0) or Complex name (e.g. 12oxoLeukotrieneB4_byPTGR1)\n",
    "(results, complex_name2proteins_text) = search_utils.search('ENSG00000134780,integrin_a10b1_complex', user_dir_root, cellophonedb_version)\n",
    "# Display results in a html table (complex partners highlighted in green)\n",
    "# Note: Mouse over complex names to see constituent proteins\n",
    "search_utils.display_table(results, complex_name2proteins_text)"
   ]
  },
  {
   "cell_type": "markdown",
   "metadata": {},
   "source": [
    "## Load User Files"
   ]
  },
  {
   "cell_type": "code",
   "execution_count": null,
   "metadata": {},
   "outputs": [],
   "source": [
    "from src.core.preprocessors import method_preprocessors\n",
    "# N.B. User files are expected to be found in directory: <user_dir_root>/user_files \n",
    "#counts, raw_meta, meta, microenvs, degs = controller.get_user_files(user_dir_root, \\\n",
    "#    counts_fn='test_counts.txt', meta_fn='test_meta.txt', \\\n",
    "#    microenvs_fn='test_microenviroments.txt', degs_fn='test_degs.txt')\n",
    "adata, counts, raw_meta, meta, microenvs, degs = controller.get_user_file(user_dir_root, h5ad_fn = 'test.h5ad')\n",
    "meta = method_preprocessors.meta_preprocessor(raw_meta)\n",
    "counts = controller._counts_validations(counts, meta)\n",
    "subsampler = None\n",
    "if subsampler is not None:\n",
    "    counts = subsampler.subsample(counts)"
   ]
  },
  {
   "cell_type": "markdown",
   "metadata": {},
   "source": [
    "## Run Basic Analysis"
   ]
  },
  {
   "cell_type": "code",
   "execution_count": null,
   "metadata": {},
   "outputs": [],
   "source": [
    "from src.core.methods import cpdb_analysis_method\n",
    "means, significant_means, deconvoluted = cpdb_analysis_method.call(\n",
    "    meta,\n",
    "    counts,\n",
    "    'ensembl',\n",
    "    interactions,\n",
    "    genes,\n",
    "    complex_expanded,\n",
    "    complex_composition,\n",
    "    microenvs=microenvs,\n",
    "    debug=False,\n",
    "    output_path=os.path.join(user_dir_root,'out'))\n",
    "# print(means.info)\n",
    "# print(significant_means.info)\n",
    "# print(deconvoluted.info)"
   ]
  },
  {
   "cell_type": "markdown",
   "metadata": {},
   "source": [
    "## Run Statistical Analysis"
   ]
  },
  {
   "cell_type": "code",
   "execution_count": null,
   "metadata": {},
   "outputs": [],
   "source": [
    "from src.core.methods import cpdb_statistical_analysis_method\n",
    "deconvoluted, means, pvalues, significant_means = \\\n",
    "    cpdb_statistical_analysis_method.call(meta,\n",
    "        counts,\n",
    "        'ensembl',\n",
    "        interactions,\n",
    "        genes,\n",
    "        complex_expanded,\n",
    "        complex_composition,\n",
    "        microenvs=microenvs,\n",
    "        iterations = 1000,\n",
    "        threshold = 0.1,\n",
    "        threads = 4,\n",
    "        debug_seed = -1,\n",
    "        result_precision = 3,\n",
    "        pvalue = 0.05,\n",
    "        separator = '|',\n",
    "        debug = False,\n",
    "        output_path = '')\n",
    "# print(deconvoluted.info)\n",
    "# print(means.info)\n",
    "# print(pvalues.info)\n",
    "# print(significant_means.info)\n"
   ]
  },
  {
   "cell_type": "markdown",
   "metadata": {},
   "source": [
    "## Run Differential Analysis"
   ]
  },
  {
   "cell_type": "code",
   "execution_count": null,
   "metadata": {},
   "outputs": [],
   "source": [
    "from src.core.methods import cpdb_degs_analysis_method\n",
    "deconvoluted, means, relevant_interactions, significant_means = \\\n",
    "    cpdb_degs_analysis_method.call(meta,\n",
    "        counts,\n",
    "        degs,\n",
    "        'ensembl',\n",
    "        interactions,\n",
    "        genes,\n",
    "        complex_expanded,\n",
    "        complex_composition,\n",
    "        microenvs=microenvs,\n",
    "        iterations = 1000,\n",
    "        threshold = 0.1,\n",
    "        threads = 4,\n",
    "        debug_seed = -1,\n",
    "        result_precision = 3,\n",
    "        separator = '|',\n",
    "        debug = False,\n",
    "        output_path = '')\n",
    "# print(deconvoluted.info)\n",
    "# print(means.info)\n",
    "# print(relevant_interactions.info)\n",
    "# print(significant_means.info)"
   ]
  },
  {
   "cell_type": "markdown",
   "metadata": {},
   "source": [
    "## Plot Statistical Analysis results"
   ]
  },
  {
   "cell_type": "code",
   "execution_count": null,
   "metadata": {
    "scrolled": true
   },
   "outputs": [],
   "source": [
    "import warnings\n",
    "warnings.filterwarnings('ignore')\n",
    "from ktplotspy.plot import plot_cpdb, plot_cpdb_heatmap\n",
    "\n",
    "# Exmaple dot plot\n",
    "g1 = plot_cpdb(\n",
    "        adata=adata,\n",
    "        cell_type1=\"Myeloid\",\n",
    "        # '.' means any cell type\n",
    "        cell_type2=\".\",\n",
    "        means=means,\n",
    "        pvals=pvalues,\n",
    "        celltype_key=\"cell_type\",\n",
    "        genes=[\"FN1\", \"integrin-a5b1-complex\",\"COLEC12\"],\n",
    "        title=\"Example dot plot\"\n",
    "    )\n",
    "\n",
    "# Example heatmap\n",
    "g2 = plot_cpdb_heatmap(\n",
    "        adata=adata,\n",
    "        pvals=pvalues,\n",
    "        celltype_key=\"cell_type\",\n",
    "        log1p_transform=True,\n",
    "        title=\"Example heatmap\"\n",
    "    )\n",
    "g1, g2\n"
   ]
  }
 ],
 "metadata": {
  "kernelspec": {
   "display_name": "Python 3 (ipykernel)",
   "language": "python",
   "name": "python3"
  },
  "language_info": {
   "codemirror_mode": {
    "name": "ipython",
    "version": 3
   },
   "file_extension": ".py",
   "mimetype": "text/x-python",
   "name": "python",
   "nbconvert_exporter": "python",
   "pygments_lexer": "ipython3",
   "version": "3.9.13"
  }
 },
 "nbformat": 4,
 "nbformat_minor": 4
}
