{
 "cells": [
  {
   "attachments": {},
   "cell_type": "markdown",
   "metadata": {},
   "source": [
    " ![CellphoneDB Logo](https://www.cellphonedb.org/images/cellphonedb_logo_33.png) CellphoneDB is a publicly available repository of curated receptors, ligands and their interactions."
   ]
  },
  {
   "attachments": {},
   "cell_type": "markdown",
   "metadata": {},
   "source": [
    "# Build database from files\n",
    "In this notebook we will create the CellPhoneDB database from the input files:\n",
    "1) Download CellPhoneDB source database (described in the notebook `T00_DownloadDB.ipynb`).\n",
    "2) Modify input files to add new interactions.\n",
    "\n",
    "If a new interaction is added and the proteins/complexes are not already present in the database the corresponding information should be added to the protein/complex input files. The inputs required to generate the database are:\n",
    "- `interaction_input.csv`\n",
    "- `gene_input.csv`\n",
    "- `complex_input.csv`\n",
    "- `protein_input.csv`\n",
    "- `/sources/<files>`\n",
    "\n",
    "<span style=\"color:red\">**Important**, these files must be named as shown above.</span>"
   ]
  },
  {
   "cell_type": "markdown",
   "metadata": {},
   "source": [
    "### Install CellPhoneDB\n",
    "It's recommended to install CellPhoneDB within a conda environment"
   ]
  },
  {
   "attachments": {},
   "cell_type": "markdown",
   "metadata": {},
   "source": [
    "> pip install --quiet cellphonedb"
   ]
  },
  {
   "cell_type": "code",
   "execution_count": 1,
   "metadata": {},
   "outputs": [],
   "source": [
    "import pandas as pd\n",
    "import glob\n",
    "import os"
   ]
  },
  {
   "cell_type": "markdown",
   "metadata": {},
   "source": [
    "### Load database input files\n"
   ]
  },
  {
   "cell_type": "code",
   "execution_count": 2,
   "metadata": {},
   "outputs": [
    {
     "data": {
      "text/plain": [
       "['gene_input.csv',\n",
       " 'interaction_input.csv',\n",
       " 'sources',\n",
       " 'complex_input.csv',\n",
       " 'protein_input.csv']"
      ]
     },
     "execution_count": 2,
     "metadata": {},
     "output_type": "execute_result"
    }
   ],
   "source": [
    "# -- Path where the input files to generate the database are located\n",
    "cpdb_input_dir = '/home/jovyan/cpdb_tutorial/db/customdb/' \n",
    "os.listdir(cpdb_input_dir)"
   ]
  },
  {
   "cell_type": "markdown",
   "metadata": {},
   "source": [
    "### Generate database"
   ]
  },
  {
   "attachments": {},
   "cell_type": "markdown",
   "metadata": {},
   "source": [
    "The method `db_utils.create_db` will take the input files from `cpdb_input_dir` and create a `cellphonedb_<time stamp>.zip` file in the same folder."
   ]
  },
  {
   "cell_type": "code",
   "execution_count": 3,
   "metadata": {},
   "outputs": [
    {
     "name": "stdout",
     "output_type": "stream",
     "text": [
      "\n",
      "Created /home/jovyan/cpdb_tutorial/db/customdb/cellphonedb_03_08_2023_13:29:19.zip successfully\n"
     ]
    }
   ],
   "source": [
    "from cellphonedb.utils import db_utils\n",
    "\n",
    "# -- Creates new database\n",
    "db_utils.create_db(cpdb_input_dir)"
   ]
  }
 ],
 "metadata": {
  "kernelspec": {
   "display_name": "cpdb-bare-essential",
   "language": "python",
   "name": "cpdb-bare-essential"
  },
  "language_info": {
   "codemirror_mode": {
    "name": "ipython",
    "version": 3
   },
   "file_extension": ".py",
   "mimetype": "text/x-python",
   "name": "python",
   "nbconvert_exporter": "python",
   "pygments_lexer": "ipython3",
   "version": "3.9.13"
  }
 },
 "nbformat": 4,
 "nbformat_minor": 4
}
