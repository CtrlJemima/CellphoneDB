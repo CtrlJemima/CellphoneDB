{
 "cells": [
  {
   "cell_type": "markdown",
   "metadata": {},
   "source": [
    " ![CellphoneDB Logo](https://www.cellphonedb.org/images/cellphonedb_logo_33.png) | CellphoneDB is a publicly available repository of curated receptors, ligands and their interactions. ||\n",
    " :------------- | :------------- | :-------------\n",
    "\n",
    "CellphoneDB includes subunit architecture for both ligands and receptors, representing heteromeric complexes accurately. This is crucial, as cell-cell communication relies on multi-subunit protein complexes that go beyond the binary representation used in most databases and studies.\n",
    "\n",
    "CellPhoneDB integrates existing datasets that pertain to cellular communication and new manually reviewed information. CellPhoneDB utilises information from the following data bases: [UniProt](https://www.uniprot.org/), [Ensembl](https://www.ensembl.org/), [PDB](https://www.ebi.ac.uk/pdbe/), [the IMEx consortium](https://www.imexconsortium.org/) and [IUPHAR](https://www.guidetopharmacology.org/).\n",
    "\n",
    "CellPhoneDB can be used to search for a particular ligand/receptor or interrogate your own single-cell transcriptomics data.\n",
    "\n",
    "This notebook provides an example of how to create your own CellphoneDB database file - either by using your own interactions and/or complexes, or appending them to those already in CellphoneDB.\n",
    "\n"
   ]
  },
  {
   "cell_type": "markdown",
   "metadata": {},
   "source": [
    "## Install CellphoneDB package"
   ]
  },
  {
   "cell_type": "code",
   "execution_count": null,
   "metadata": {},
   "outputs": [],
   "source": [
    "%%capture\n",
    "pip install --force-reinstall \"git+https://github.com/ventolab/CellphoneDB.git@bare-essentials\""
   ]
  },
  {
   "cell_type": "markdown",
   "metadata": {},
   "source": [
    "## List CellphoneDB data releases"
   ]
  },
  {
   "cell_type": "code",
   "execution_count": null,
   "metadata": {},
   "outputs": [],
   "source": [
    "from IPython.display import HTML, display\n",
    "from cellphonedb.utils import db_releases_utils\n",
    "display(HTML(db_releases_utils.get_remote_database_versions_html()['db_releases_html_table']))"
   ]
  },
  {
   "cell_type": "markdown",
   "metadata": {},
   "source": [
    "## Set CellphoneDB version and local directories for the database files and user data"
   ]
  },
  {
   "cell_type": "code",
   "execution_count": null,
   "metadata": {},
   "outputs": [],
   "source": [
    "import os\n",
    "# The default version of CellphoneDB data is the latest one, but you can change it to a previous version \n",
    "# at any point in this notebook (by re-setting the value of cpdb_version variable). \n",
    "# Please note that the format of the database from version v4.1.0 is incompatible with that of previous \n",
    "# versions, hence the lowest version number you may choose in this notebook is v4.1.0\n",
    "cpdb_version = \"v4.1.0\"\n",
    "# cpdb_dir will contain the *_input.csv and cellphonedb.zip files that you will download from https://github.com/ventolab/cellphonedb-data\n",
    "# At the very least, please replace <your_user_id> with your user id\n",
    "cpdb_dir = os.path.join(\"/Users/<your_user_id>/.cpdb/releases\", cpdb_version)\n",
    "# generated_cpdb_dir is where you will generate your own CellphoneDB database into. You may change the value of generated_cpdb_dir to a directory of your choice.\n",
    "generated_cpdb_dir = os.path.join(cpdb_dir, \"generated\")\n",
    "# This directory contains your own files that you wish to use to create your own CellphoneDB database with. You may change the value of user_files_dir to a directory of your choice.\n",
    "user_files_dir = \"/Users/<your_user_id>/.cpdb/user_files\""
   ]
  },
  {
   "cell_type": "markdown",
   "metadata": {},
   "source": [
    "## Generate your own input files"
   ]
  },
  {
   "cell_type": "code",
   "execution_count": null,
   "metadata": {},
   "outputs": [],
   "source": [
    "import os\n",
    "from cellphonedb.utils import generate_input_files\n",
    "import warnings\n",
    "warnings.filterwarnings('ignore')\n",
    "path_to_user_interactions=os.path.join(user_files_dir,\"test_interaction.csv\")\n",
    "path_to_user_complexes=os.path.join(user_files_dir,\"test_complex.csv\")\n",
    "# Set user_interactions_only to True if you wish to create CellphoneDB database using your interactions/complexes only\n",
    "# The default value of False means that your interactions/complexes will be appended at the end of those already \n",
    "# in CellphoneDB\n",
    "user_interactions_only=False\n",
    "# The command below generates *_input.csv files in <generated_cpdb_dir> directory\n",
    "generate_input_files.generate_all(generated_cpdb_dir, \\\n",
    "    user_complex=path_to_user_complexes, user_interactions=path_to_user_interactions, \\\n",
    "    user_interactions_only=user_interactions_only)"
   ]
  },
  {
   "cell_type": "markdown",
   "metadata": {},
   "source": [
    "## Create CellphoneDB database file\n",
    "#### Create DB file from input files created above"
   ]
  },
  {
   "cell_type": "code",
   "execution_count": null,
   "metadata": {},
   "outputs": [],
   "source": [
    "import os\n",
    "from cellphonedb.utils import db_utils\n",
    "# Create <generated_cpdb_dir>/cellphonedb.zip using the input files in the same directory       \n",
    "db_utils.create_db(generated_cpdb_dir)"
   ]
  }
 ],
 "metadata": {
  "kernelspec": {
   "display_name": "‘cpdb’",
   "language": "python",
   "name": "python3"
  },
  "language_info": {
   "codemirror_mode": {
    "name": "ipython",
    "version": 3
   },
   "file_extension": ".py",
   "mimetype": "text/x-python",
   "name": "python",
   "nbconvert_exporter": "python",
   "pygments_lexer": "ipython3",
   "version": "3.9.16"
  }
 },
 "nbformat": 4,
 "nbformat_minor": 4
}
