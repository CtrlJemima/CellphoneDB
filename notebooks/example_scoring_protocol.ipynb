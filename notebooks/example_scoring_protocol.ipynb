{
 "cells": [
  {
   "cell_type": "markdown",
   "id": "photographic-japanese",
   "metadata": {},
   "source": [
    "# CellphoneDB scoring protocol\n",
    "**B-cell signaling example**"
   ]
  },
  {
   "cell_type": "code",
   "execution_count": null,
   "id": "stretch-athletics",
   "metadata": {},
   "outputs": [],
   "source": [
    "%%capture\n",
    "# pip install --force-reinstall \"git+https://github.com/ventolab/CellphoneDB.git@scoring\""
   ]
  },
  {
   "cell_type": "markdown",
   "id": "collective-norman",
   "metadata": {},
   "source": [
    "### Load scanpy object"
   ]
  },
  {
   "cell_type": "code",
   "execution_count": null,
   "id": "atlantic-bedroom",
   "metadata": {},
   "outputs": [],
   "source": [
    "import scanpy as sc\n",
    "import pandas as pd\n",
    "adata = sc.read('/Users/rp23/Downloads/kevin_bcells_stroma/adata_subset_Bcells_stroma.h5ad')\n",
    "adata.shape\n",
    "norm_matrix = pd.DataFrame(adata.X.todense(),\n",
    "                           columns = list(adata.var.index),\n",
    "                           index = list(adata.obs.index)).transpose()\n",
    "norm_matrix.shape\n",
    "metadata = adata.obs\n",
    "\n",
    "# Remove scanpy object to save memory\n",
    "del adata"
   ]
  },
  {
   "cell_type": "markdown",
   "id": "a016cd0f",
   "metadata": {},
   "source": [
    "### Load CellphoneDB"
   ]
  },
  {
   "cell_type": "code",
   "execution_count": null,
   "id": "exciting-retailer",
   "metadata": {},
   "outputs": [],
   "source": [
    "import os\n",
    "# The default version of CellphoneDB data is the latest one, but you can change it to a previous version \n",
    "# at any point in this notebook (by re-setting the value of cpdb_version variable). \n",
    "# Please note that the format of the database from version v4.1.0 is incompatible with that of previous \n",
    "# versions, hence the lowest version number you may choose in this notebook is v4.1.0\n",
    "cpdb_version = \"v4.1.0\"\n",
    "# cpdb_dir will contain the *_input.csv and cellphonedb.zip files that you will download from https://github.com/ventolab/cellphonedb-data\n",
    "# At the very least, please replace <your_user_id> with your user id\n",
    "cpdb_dir = os.path.join(\"/Users/rp23/.cpdb/releases\", cpdb_version)\n",
    "cpdb_file_path = os.path.join(cpdb_dir, \"cellphonedb.zip\")"
   ]
  },
  {
   "cell_type": "markdown",
   "id": "requested-verse",
   "metadata": {},
   "source": [
    "### Calculate interaction scores"
   ]
  },
  {
   "cell_type": "code",
   "execution_count": null,
   "id": "stable-disposition",
   "metadata": {},
   "outputs": [],
   "source": [
    "from cellphonedb.utils import scoring_utils\n",
    "# Obtain interaction scores\n",
    "interaction_scores_dict = scoring_utils.score_interactions_based_on_participant_expressions_product(\n",
    "            cpdb_file_path, norm_matrix, 'gene_name', metadata, 0.1, 'cell.labels', 4)"
   ]
  },
  {
   "cell_type": "markdown",
   "id": "assisted-harvey",
   "metadata": {},
   "source": [
    "### List all cell-pairs comparison\n",
    "Results are stored as as dictionary of dataframes, each dataframe is named after the cells being analyzed for cell-cell communication. \\\n",
    "Beware you will find `cell_A|cell_B` but not `cell_B|cell_A`. Each dataframe contains the partners swapped to compare interactions in both directions."
   ]
  },
  {
   "cell_type": "code",
   "execution_count": null,
   "id": "south-consumption",
   "metadata": {},
   "outputs": [],
   "source": [
    "list(interaction_scores_dict.keys())[0:10]"
   ]
  },
  {
   "cell_type": "markdown",
   "id": "british-combine",
   "metadata": {},
   "source": [
    "### Example of how to query results\n",
    "Ordering results by the score"
   ]
  },
  {
   "cell_type": "code",
   "execution_count": null,
   "id": "affecting-completion",
   "metadata": {},
   "outputs": [],
   "source": [
    "example_table = interaction_scores_dict['endosteal fibroblast|osteoclast'].sort_values('Score',\n",
    "                                                                            ascending = False)"
   ]
  },
  {
   "cell_type": "code",
   "execution_count": null,
   "id": "nonprofit-shift",
   "metadata": {},
   "outputs": [],
   "source": [
    "example_table.head(50)"
   ]
  },
  {
   "cell_type": "markdown",
   "id": "indian-rebecca",
   "metadata": {},
   "source": [
    "____"
   ]
  }
 ],
 "metadata": {
  "kernelspec": {
   "display_name": "Python 3 (ipykernel)",
   "language": "python",
   "name": "python3"
  },
  "language_info": {
   "codemirror_mode": {
    "name": "ipython",
    "version": 3
   },
   "file_extension": ".py",
   "mimetype": "text/x-python",
   "name": "python",
   "nbconvert_exporter": "python",
   "pygments_lexer": "ipython3",
   "version": "3.9.16"
  },
  "vscode": {
   "interpreter": {
    "hash": "d4be38938b4384b4b72f771d57e174ff27b15af44a35842c7bbd2be6ebd16de6"
   }
  }
 },
 "nbformat": 4,
 "nbformat_minor": 5
}
