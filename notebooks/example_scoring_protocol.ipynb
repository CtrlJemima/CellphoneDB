{
 "cells": [
  {
   "cell_type": "markdown",
   "id": "photographic-japanese",
   "metadata": {},
   "source": [
    "# CellphoneDB scoring protocol\n",
    "**B-cell signaling example**"
   ]
  },
  {
   "cell_type": "code",
   "execution_count": null,
   "id": "stretch-athletics",
   "metadata": {},
   "outputs": [],
   "source": [
    "%%capture\n",
    "# pip install --force-reinstall \"git+https://github.com/ventolab/CellphoneDB.git@scoring\""
   ]
  },
  {
   "cell_type": "markdown",
   "id": "collective-norman",
   "metadata": {},
   "source": [
    "### Load scanpy object"
   ]
  },
  {
   "cell_type": "code",
   "execution_count": null,
   "id": "atlantic-bedroom",
   "metadata": {},
   "outputs": [],
   "source": [
    "import scanpy as sc\n",
    "adata = sc.read('/Users/rp23/Downloads/kevin_bcells_stroma/adata_subset_Bcells_stroma.h5ad')\n",
    "adata.shape"
   ]
  },
  {
   "cell_type": "code",
   "execution_count": null,
   "id": "exciting-retailer",
   "metadata": {},
   "outputs": [],
   "source": [
    "import os\n",
    "# The default version of CellphoneDB data is the latest one, but you can change it to a previous version \n",
    "# at any point in this notebook (by re-setting the value of cpdb_version variable). \n",
    "# Please note that the format of the database from version v4.1.0 is incompatible with that of previous \n",
    "# versions, hence the lowest version number you may choose in this notebook is v4.1.0\n",
    "cpdb_version = \"v4.1.9\"\n",
    "# cpdb_dir will contain the *_input.csv and cellphonedb.zip files that you will download from https://github.com/ventolab/cellphonedb-data\n",
    "# At the very least, please replace <your_user_id> with your user id\n",
    "cpdb_dir = os.path.join(\"/Users/rp23/.cpdb/releases\", cpdb_version)\n",
    "cpdb_file_path = os.path.join(cpdb_dir, \"cellphonedb.zip\")"
   ]
  },
  {
   "cell_type": "markdown",
   "id": "requested-verse",
   "metadata": {},
   "source": [
    "### Downsample cell types\n",
    "Protocol is not memory optimized, thus downsampling might be of interest (or request more memory)."
   ]
  },
  {
   "cell_type": "code",
   "execution_count": null,
   "id": "stable-disposition",
   "metadata": {},
   "outputs": [],
   "source": [
    "# Name of column containing the cell type name\n",
    "cell_type_col_name = 'cell.labels'\n",
    "# Percentage of cells that you want to keep for each cell type\n",
    "# Values between 0-1\n",
    "downsamp_percentage = 1\n",
    "# Downsample each cell type to the specifcied percentage\n",
    "adata_obs = adata.obs.groupby(cell_type_col_name).sample(frac = downsamp_percentage)\n",
    "adata = adata[list(adata_obs.index)]\n",
    "adata"
   ]
  },
  {
   "cell_type": "markdown",
   "id": "monetary-labor",
   "metadata": {},
   "source": [
    "### Convert sparse normalized matrix to dense matrix\n",
    "TODO: This should be optimized to use the sparse matrix rather than dense."
   ]
  },
  {
   "cell_type": "code",
   "execution_count": null,
   "id": "interstate-picnic",
   "metadata": {},
   "outputs": [],
   "source": [
    "import pandas as pd\n",
    "# Transpose matrix so genes are in columns and rows are samples\n",
    "norm_matrix = pd.DataFrame(adata.X.todense(),\n",
    "                           columns = list(adata.var.index),\n",
    "                           index = list(adata.obs.index)).transpose()\n",
    "metadata = adata.obs\n",
    "# Remove scanpy object to save some memory\n",
    "del adata"
   ]
  },
  {
   "cell_type": "markdown",
   "id": "representative-wholesale",
   "metadata": {},
   "source": [
    "### Apply functions to rank interactions"
   ]
  },
  {
   "cell_type": "markdown",
   "id": "crucial-testing",
   "metadata": {},
   "source": [
    "##### **Step 1**: Filter genes expressed in less than min_pct_cell of cells in a given cell type."
   ]
  },
  {
   "cell_type": "code",
   "execution_count": null,
   "id": "monthly-living",
   "metadata": {},
   "outputs": [],
   "source": [
    "from cellphonedb.utils import scoring_utils\n",
    "cpdb_f = scoring_utils.filter_genes_per_cell_type(matrix = norm_matrix,\n",
    "                              metadata = metadata,\n",
    "                              min_pct_cell = 0.1,\n",
    "                              cell_column_name = cell_type_col_name)"
   ]
  },
  {
   "cell_type": "markdown",
   "id": "informed-wheel",
   "metadata": {},
   "source": [
    "##### **Step 2**: Calculate the gene's mean expression per cell type."
   ]
  },
  {
   "cell_type": "code",
   "execution_count": null,
   "id": "hollywood-three",
   "metadata": {},
   "outputs": [],
   "source": [
    "cpdb_fm = scoring_utils.mean_expression_per_cell_type(matrix = cpdb_f,\n",
    "                                  metadata = metadata,\n",
    "                                  cell_column_name = cell_type_col_name)"
   ]
  },
  {
   "cell_type": "markdown",
   "id": "completed-taste",
   "metadata": {},
   "source": [
    "##### **Step 3**: Calculate geometric expression mean per heteromer"
   ]
  },
  {
   "cell_type": "code",
   "execution_count": null,
   "id": "stock-color",
   "metadata": {},
   "outputs": [],
   "source": [
    "cpdb_fmsh = scoring_utils.heteromer_geometric_expression_per_cell_type(matrix = cpdb_fm,\n",
    "                                                         cpdb_file_path = cpdb_file_path)"
   ]
  },
  {
   "cell_type": "markdown",
   "id": "final-doctrine",
   "metadata": {},
   "source": [
    "##### **Step 4**: Scale the gene's mean expression across cell types."
   ]
  },
  {
   "cell_type": "code",
   "execution_count": null,
   "id": "worldwide-venue",
   "metadata": {},
   "outputs": [],
   "source": [
    "cpdb_fms = scoring_utils.scale_expression(cpdb_fmsh,\n",
    "                            upper_range = 10)"
   ]
  },
  {
   "cell_type": "markdown",
   "id": "coated-flesh",
   "metadata": {},
   "source": [
    "##### **Step 5**: calculate the ligand-receptor score."
   ]
  },
  {
   "cell_type": "code",
   "execution_count": null,
   "id": "furnished-divorce",
   "metadata": {},
   "outputs": [],
   "source": [
    "import time\n",
    "t0 = time.time()\n",
    "cpdb_scoring = scoring_utils.score_product(matrix = cpdb_fmsh, \n",
    "                                           cpdb_file_path = cpdb_file_path,\n",
    "                                           threads = 4)\n",
    "print(time.time() - t0, \"s wall time\")\n",
    "# # ~251s seconds wall time - with no parallelisation"
   ]
  },
  {
   "cell_type": "markdown",
   "id": "assisted-harvey",
   "metadata": {},
   "source": [
    "### List all cell-pairs comparison\n",
    "Results are stored as as dictionary of dataframes, each dataframe is named after the cells being analyzed for cell-cell communication. \\\n",
    "Beware you will find `cell_A|cell_B` but not `cell_B|cell_A`. Each dataframe contains the partners swapped to compare interactions in both directions."
   ]
  },
  {
   "cell_type": "code",
   "execution_count": null,
   "id": "south-consumption",
   "metadata": {},
   "outputs": [],
   "source": [
    "list(cpdb_scoring.keys())[0:10]"
   ]
  },
  {
   "cell_type": "markdown",
   "id": "british-combine",
   "metadata": {},
   "source": [
    "### Example of how to query results\n",
    "Ordering results by the score"
   ]
  },
  {
   "cell_type": "code",
   "execution_count": null,
   "id": "affecting-completion",
   "metadata": {},
   "outputs": [],
   "source": [
    "example_table = cpdb_scoring['endosteal fibroblast|osteoclast'].sort_values('Score',\n",
    "                                                                            ascending = False)"
   ]
  },
  {
   "cell_type": "code",
   "execution_count": null,
   "id": "nonprofit-shift",
   "metadata": {},
   "outputs": [],
   "source": [
    "example_table.head(20)"
   ]
  },
  {
   "cell_type": "markdown",
   "id": "indian-rebecca",
   "metadata": {},
   "source": [
    "____"
   ]
  }
 ],
 "metadata": {
  "kernelspec": {
   "display_name": "Python 3 (ipykernel)",
   "language": "python",
   "name": "python3"
  },
  "language_info": {
   "codemirror_mode": {
    "name": "ipython",
    "version": 3
   },
   "file_extension": ".py",
   "mimetype": "text/x-python",
   "name": "python",
   "nbconvert_exporter": "python",
   "pygments_lexer": "ipython3",
   "version": "3.9.16"
  },
  "vscode": {
   "interpreter": {
    "hash": "d4be38938b4384b4b72f771d57e174ff27b15af44a35842c7bbd2be6ebd16de6"
   }
  }
 },
 "nbformat": 4,
 "nbformat_minor": 5
}
