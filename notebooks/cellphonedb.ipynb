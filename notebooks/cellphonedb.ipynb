{
 "cells": [
  {
   "cell_type": "markdown",
   "metadata": {},
   "source": [
    " ![CellphoneDB Logo](https://www.cellphonedb.org/images/cellphonedb_logo_33.png) | CellphoneDB is a publicly available repository of curated receptors, ligands and their interactions. ||\n",
    " :------------- | :------------- | :-------------\n",
    "\n",
    "CellphoneDB includes subunit architecture for both ligands and receptors, representing heteromeric complexes accurately. This is crucial, as cell-cell communication relies on multi-subunit protein complexes that go beyond the binary representation used in most databases and studies.\n",
    "\n",
    "CellPhoneDB integrates existing datasets that pertain to cellular communication and new manually reviewed information. CellPhoneDB utilises information from the following data bases: [UniProt](https://www.uniprot.org/), [Ensembl](https://www.ensembl.org/), [PDB](https://www.ebi.ac.uk/pdbe/), [the IMEx consortium](https://www.imexconsortium.org/) and [IUPHAR](https://www.guidetopharmacology.org/).\n",
    "\n",
    "CellPhoneDB can be used to search for a particular ligand/receptor or interrogate your own single-cell transcriptomics data.\n",
    "\n"
   ]
  },
  {
   "cell_type": "markdown",
   "metadata": {},
   "source": [
    "## Install CellphoneDB package"
   ]
  },
  {
   "cell_type": "code",
   "execution_count": null,
   "metadata": {},
   "outputs": [],
   "source": [
    "%%capture\n",
    "pip install --force-reinstall \"git+https://github.com/ventolab/CellphoneDB.git@bare-essentials\""
   ]
  },
  {
   "cell_type": "markdown",
   "metadata": {},
   "source": [
    "## List CellphoneDB data releases"
   ]
  },
  {
   "cell_type": "code",
   "execution_count": null,
   "metadata": {},
   "outputs": [],
   "source": [
    "from IPython.display import HTML, display\n",
    "from cellphonedb.utils import db_releases_utils\n",
    "display(HTML(db_releases_utils.get_remote_database_versions_html()['db_releases_html_table']))"
   ]
  },
  {
   "cell_type": "markdown",
   "metadata": {},
   "source": [
    "## Set CellphoneDB version and local directories for the database and user data"
   ]
  },
  {
   "cell_type": "code",
   "execution_count": null,
   "metadata": {},
   "outputs": [],
   "source": [
    "import os\n",
    "# The default version of CellphoneDB data is the latest one, but you can change it to a previous version \n",
    "# at any point in this notebook (by re-setting the value of cpdb_version variable). \n",
    "# Please note that the format of the database from version v4.1.0 is incompatible with that of previous \n",
    "# versions, hence the lowest version number you may choose in this notebook is v4.1.0\n",
    "cpdb_version = \"v4.1.4\"\n",
    "# N.B. At the very least, please replace <your_user_id> with your user id\n",
    "cpdb_dir = os.path.join(\"/Users/<your_user_id>/.cpdb/releases\", cpdb_version)"
   ]
  },
  {
   "cell_type": "markdown",
   "metadata": {},
   "source": [
    "## Download CellphoneDB database from https://github.com/ventolab/cellphonedb-data/"
   ]
  },
  {
   "cell_type": "code",
   "execution_count": null,
   "metadata": {},
   "outputs": [],
   "source": [
    "import os\n",
    "from cellphonedb.utils import db_utils\n",
    "db_utils.download_database(cpdb_dir, cpdb_version)\n",
    "# If you generated your own CellphoneDB database file, please replace the default path below to the your file's path\n",
    "cpdb_file_path = os.path.join(cpdb_dir, \"cellphonedb.zip\")"
   ]
  },
  {
   "cell_type": "markdown",
   "metadata": {},
   "source": [
    "## Search CellphoneDB Interactions\n",
    "#### Search CellphoneDB interactions by (a comma- or space-separated list of): \n",
    "* Ensembl ID (e.g. ENSG00000165029), \n",
    "* Gene name (e.g. ABCA1), \n",
    "* UniProt ID (e.g. KLRG2_HUMAN), \n",
    "* UniProt Accession (e.g. A4D1S0) or \n",
    "* Complex name (e.g. 12oxoLeukotrieneB4_byPTGR1)"
   ]
  },
  {
   "cell_type": "code",
   "execution_count": null,
   "metadata": {},
   "outputs": [],
   "source": [
    "import os\n",
    "from cellphonedb.utils import file_utils, search_utils\n",
    "from IPython.display import HTML, display\n",
    "# Search CellphoneDB interactions by (a comma- or space-separated list of):\n",
    "# Ensembl ID (e.g. ENSG00000165029), Gene name (e.g. ABCA1), UniProt ID (e.g. KLRG2_HUMAN), \n",
    "# UniProt Accession (e.g. A4D1S0) or Complex name (e.g. 12oxoLeukotrieneB4_byPTGR1)\n",
    "(results, complex_name2proteins_text) = search_utils.search('ENSG00000134780,integrin_a10b1_complex', cpdb_file_path)\n",
    "# Display results in a html table\n",
    "# Note: Mouse over complex names to see constituent proteins\n",
    "display(HTML(search_utils.get_html_table(results, complex_name2proteins_text)))"
   ]
  },
  {
   "cell_type": "markdown",
   "metadata": {},
   "source": [
    "## Run Basic Analysis"
   ]
  },
  {
   "cell_type": "code",
   "execution_count": null,
   "metadata": {},
   "outputs": [],
   "source": [
    "# Please populate the following variables before executing the analysis\n",
    "meta_file_path = None\n",
    "counts_file_path = None\n",
    "output_path = None\n",
    "# Execute basic analysis\n",
    "from cellphonedb.src.core.methods import cpdb_analysis_method\n",
    "means, significant_means, deconvoluted = cpdb_analysis_method.call(\n",
    "    cpdb_file_path = cpdb_file_path, \n",
    "    meta_file_path = meta_file_path, \n",
    "    counts_file_path = counts_file_path,\n",
    "    counts_data = 'ensembl',\n",
    "    output_path = output_path,\n",
    "    microenvs_file_path = None,\n",
    "    separator = \"|\",\n",
    "    threshold = 0.1,\n",
    "    result_precision = 3,\n",
    "    debug = False,\n",
    "    output_suffix = None)\n",
    "# print(means.info)\n",
    "# print(significant_means.info)\n",
    "# print(deconvoluted.info)"
   ]
  },
  {
   "cell_type": "markdown",
   "metadata": {},
   "source": [
    "## Run Statistical Analysis"
   ]
  },
  {
   "cell_type": "code",
   "execution_count": null,
   "metadata": {},
   "outputs": [],
   "source": [
    "# Please populate the following variables before executing the analysis\n",
    "meta_file_path = None\n",
    "counts_file_path = None\n",
    "output_path = None\n",
    "# Execute statistical analysis\n",
    "from cellphonedb.src.core.methods import cpdb_statistical_analysis_method\n",
    "deconvoluted, means, pvalues, significant_means = \\\n",
    "    cpdb_statistical_analysis_method.call(\n",
    "        cpdb_file_path = cpdb_file_path, \n",
    "        meta_file_path = meta_file_path, \n",
    "        counts_file_path = counts_file_path,\n",
    "        counts_data = 'ensembl',\n",
    "        output_path = output_path,\n",
    "        microenvs_file_path = None,\n",
    "        iterations = 1000,\n",
    "        threshold = 0.1,\n",
    "        threads = 4,\n",
    "        debug_seed = -1,\n",
    "        result_precision = 3,\n",
    "        pvalue = 0.05,\n",
    "        subsampling = False,\n",
    "        subsampling_log = False,\n",
    "        subsampling_num_pc = 100,\n",
    "        subsampling_num_cells = None,\n",
    "        separator = '|',\n",
    "        debug = False,\n",
    "        output_suffix = None)\n",
    "# print(deconvoluted.info)\n",
    "# print(means.info)\n",
    "# print(pvalues.info)\n",
    "# print(significant_means.info)\n"
   ]
  },
  {
   "cell_type": "markdown",
   "metadata": {},
   "source": [
    "## Run Differential Analysis"
   ]
  },
  {
   "cell_type": "code",
   "execution_count": null,
   "metadata": {},
   "outputs": [],
   "source": [
    "# Please populate the following variables before executing the analysis\n",
    "meta_file_path = None\n",
    "counts_file_path = None\n",
    "degs_file_path = None\n",
    "output_path = None\n",
    "# Execute differential analysis\n",
    "from cellphonedb.src.core.methods import cpdb_degs_analysis_method\n",
    "deconvoluted, means, relevant_interactions, significant_means = \\\n",
    "    cpdb_degs_analysis_method.call(\n",
    "        cpdb_file_path = cpdb_file_path, \n",
    "        meta_file_path = meta_file_path, \n",
    "        counts_file_path = counts_file_path,\n",
    "        degs_file_path = degs_file_path,\n",
    "        counts_data = 'ensembl',\n",
    "        microenvs_file_path=None,\n",
    "        threshold = 0.1,\n",
    "        debug_seed = -1,\n",
    "        result_precision = 3,\n",
    "        separator = '|',\n",
    "        debug = False,\n",
    "        output_path = output_path,\n",
    "        output_suffix = None)\n",
    "# print(deconvoluted.info)\n",
    "# print(means.info)\n",
    "# print(relevant_interactions.info)\n",
    "# print(significant_means.info)"
   ]
  },
  {
   "cell_type": "markdown",
   "metadata": {},
   "source": [
    "## Plot Statistical Analysis results"
   ]
  },
  {
   "cell_type": "code",
   "execution_count": null,
   "metadata": {
    "scrolled": true
   },
   "outputs": [],
   "source": [
    "import warnings\n",
    "warnings.filterwarnings('ignore')\n",
    "from ktplotspy.plot import plot_cpdb, plot_cpdb_heatmap\n",
    "from cellphonedb.utils import file_utils\n",
    "import os\n",
    "\n",
    "meta_fp='test_meta.txt'\n",
    "# counts_fn='test_counts.txt'\n",
    "counts_fp='test.h5ad'\n",
    "# Create AnnData object with obs set to a DataFrame containing data from meta_fn\n",
    "adata = file_utils.get_counts_meta_adata(counts_fp, meta_fp)\n",
    "\n",
    "# Exmaple dot plot\n",
    "g1 = plot_cpdb(\n",
    "        adata=adata,\n",
    "        cell_type1=\"Myeloid\",\n",
    "        # '.' means any cell type\n",
    "        cell_type2=\".\",\n",
    "        means=means,\n",
    "        pvals=pvalues,\n",
    "        celltype_key=\"cell_type\",\n",
    "        genes=[\"FN1\", \"integrin-a5b1-complex\",\"COLEC12\"],\n",
    "        title=\"Example dot plot\"\n",
    "    )\n",
    "\n",
    "# Example heatmap\n",
    "g2 = plot_cpdb_heatmap(\n",
    "        adata=adata,\n",
    "        pvals=pvalues,\n",
    "        celltype_key=\"cell_type\",\n",
    "        log1p_transform=True,\n",
    "        title=\"Example heatmap\"\n",
    "    )\n",
    "g1, g2\n"
   ]
  },
  {
   "cell_type": "code",
   "execution_count": null,
   "metadata": {},
   "outputs": [],
   "source": []
  }
 ],
 "metadata": {
  "kernelspec": {
   "display_name": "‘cpdb’",
   "language": "python",
   "name": "python3"
  },
  "language_info": {
   "codemirror_mode": {
    "name": "ipython",
    "version": 3
   },
   "file_extension": ".py",
   "mimetype": "text/x-python",
   "name": "python",
   "nbconvert_exporter": "python",
   "pygments_lexer": "ipython3",
   "version": "3.9.16"
  }
 },
 "nbformat": 4,
 "nbformat_minor": 4
}
