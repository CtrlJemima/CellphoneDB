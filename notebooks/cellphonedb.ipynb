{
 "cells": [
  {
   "cell_type": "markdown",
   "metadata": {},
   "source": [
    " ![CellphoneDB Logo](https://www.cellphonedb.org/images/cellphonedb_logo_33.png) | CellphoneDB is a publicly available repository of curated receptors, ligands and their interactions. ||\n",
    " :------------- | :------------- | :-------------\n",
    "\n",
    "CellphoneDB includes subunit architecture for both ligands and receptors, representing heteromeric complexes accurately. This is crucial, as cell-cell communication relies on multi-subunit protein complexes that go beyond the binary representation used in most databases and studies.\n",
    "\n",
    "CellPhoneDB integrates existing datasets that pertain to cellular communication and new manually reviewed information. CellPhoneDB utilises information from the following data bases: [UniProt](https://www.uniprot.org/), [Ensembl](https://www.ensembl.org/), [PDB](https://www.ebi.ac.uk/pdbe/), [the IMEx consortium](https://www.imexconsortium.org/) and [IUPHAR](https://www.guidetopharmacology.org/).\n",
    "\n",
    "CellPhoneDB can be used to search for a particular ligand/receptor or interrogate your own single-cell transcriptomics data.\n",
    "\n"
   ]
  },
  {
   "cell_type": "markdown",
   "metadata": {},
   "source": [
    "## Install CellphoneDB package"
   ]
  },
  {
   "cell_type": "code",
   "execution_count": null,
   "metadata": {},
   "outputs": [],
   "source": [
    "%%capture\n",
    "pip install --force-reinstall \"git+https://github.com/ventolab/CellphoneDB.git@bare-essentials\""
   ]
  },
  {
   "cell_type": "markdown",
   "metadata": {},
   "source": [
    "## List CellphoneDB data releases"
   ]
  },
  {
   "cell_type": "code",
   "execution_count": null,
   "metadata": {},
   "outputs": [],
   "source": [
    "from IPython.display import HTML, display\n",
    "from cellphonedb.utils import db_releases_utils\n",
    "display(HTML(db_releases_utils.get_remote_database_versions_html()['db_releases_html_table']))"
   ]
  },
  {
   "cell_type": "markdown",
   "metadata": {},
   "source": [
    "## Set local directories for CellphoneDB and user data"
   ]
  },
  {
   "cell_type": "code",
   "execution_count": null,
   "metadata": {},
   "outputs": [],
   "source": [
    "import os\n",
    "# The default version of CellphoneDB data is the latest one, but you can change it to a previous version \n",
    "# at any point in this notebook (by re-setting the value of cpdb_version variable). \n",
    "# Please note that the format of the database from version v5.0.0 is incompatible with that of previous \n",
    "# versions, hence the lowest version number you may choose in this notebook is v5.0.0\n",
    "cpdb_version = \"v5.0.0\"\n",
    "cpdb_dir = os.path.join(\"/Users/<your_user_id>/.cpdb/releases\", cpdb_version)\n",
    "# generated_cpdb_dir contains the location of CellphoneDB database file in the case you \n",
    "# need to generate your own database. You may change the value of generated_cpdb_dir to the directory of your choice.\n",
    "generated_cpdb_dir = os.path.join(cpdb_dir, \"generated\")\n",
    "# This directory contains your own files that you wish to analyse\n",
    "user_files_dir = \"/Users/<your_user_id>/.cpdb/user_files\""
   ]
  },
  {
   "cell_type": "markdown",
   "metadata": {},
   "source": [
    "## Generate own input files\n",
    "#### Note: use this section if need to append your own interactions to CellphoneDB's ones (or replace CellphoneDB's interactions with your own)."
   ]
  },
  {
   "cell_type": "code",
   "execution_count": null,
   "metadata": {},
   "outputs": [],
   "source": [
    "import os\n",
    "from cellphonedb.utils import generate_input_files\n",
    "import warnings\n",
    "warnings.filterwarnings('ignore')\n",
    "path_to_user_interactions=os.path.join(user_files_dir,\"test_interaction.csv\")\n",
    "path_to_user_complexes=os.path.join(user_files_dir,\"test_complex.csv\")\n",
    "# Set user_interactions_only to True if you wish to create CellphoneDB database using your interactions/complexes only\n",
    "# The default value of False means that your interactions/complexes will be appended at the end of those already \n",
    "# in CellphoneDB\n",
    "user_interactions_only=False\n",
    "# The command below generates *_input.csv files in <generated_cpdb_dir> directory\n",
    "generate_input_files.generate_all(generated_cpdb_dir, \\\n",
    "    user_complex=path_to_user_complexes, user_interactions=path_to_user_interactions, \\\n",
    "    user_interactions_only=user_interactions_only)"
   ]
  },
  {
   "cell_type": "markdown",
   "metadata": {},
   "source": [
    "## Download input files from CellphoneDB\n",
    "#### Note: use this section if you need to use interactions provided by CellphoneDB only."
   ]
  },
  {
   "cell_type": "code",
   "execution_count": null,
   "metadata": {},
   "outputs": [],
   "source": [
    "# The command below downloads from https://github.com/ventolab/cellphonedb-data/*_input.csv files into <cpdb_dir>\n",
    "from cellphonedb.utils import db_utils\n",
    "db_utils.download_input_files(cpdb_dir)"
   ]
  },
  {
   "cell_type": "markdown",
   "metadata": {},
   "source": [
    "## Create CellphoneDB database file\n",
    "#### Create DB file from input files created or downloaded above"
   ]
  },
  {
   "cell_type": "code",
   "execution_count": null,
   "metadata": {},
   "outputs": [],
   "source": [
    "import os\n",
    "from cellphonedb.utils import db_utils\n",
    "data_dir = cpdb_dir\n",
    "# Use the following if you generated your own *_input.csv files and CellphoneDB database\n",
    "# data_dir = generated_cpdb_dir\n",
    "gene_input_path = os.path.join(data_dir, \"gene_input.csv\")\n",
    "protein_input_path = os.path.join(data_dir, \"protein_input.csv\")\n",
    "complex_input_path = os.path.join(data_dir, \"complex_input.csv\")\n",
    "interaction_input_path = os.path.join(data_dir, \"interaction_input.csv\")\n",
    "# Create <data_dir>/cellphonedb.zip using the input files above        \n",
    "db_utils.create_db(data_dir, \\\n",
    "    gene_input=gene_input_path, protein_input=protein_input_path, \\\n",
    "    complex_input=complex_input_path, interaction_input=interaction_input_path)"
   ]
  },
  {
   "cell_type": "markdown",
   "metadata": {},
   "source": [
    "## Search CellphoneDB Interactions\n",
    "#### Search CellphoneDB interactions by (a comma- or space-separated list of): \n",
    "* Ensembl ID (e.g. ENSG00000165029), \n",
    "* Gene name (e.g. ABCA1), \n",
    "* UniProt ID (e.g. KLRG2_HUMAN), \n",
    "* UniProt Accession (e.g. A4D1S0) or \n",
    "* Complex name (e.g. 12oxoLeukotrieneB4_byPTGR1)"
   ]
  },
  {
   "cell_type": "code",
   "execution_count": null,
   "metadata": {},
   "outputs": [],
   "source": [
    "import os\n",
    "from cellphonedb.utils import file_utils, search_utils\n",
    "from IPython.display import HTML, display\n",
    "# Search CellphoneDB interactions by (a comma- or space-separated list of):\n",
    "# Ensembl ID (e.g. ENSG00000165029), Gene name (e.g. ABCA1), UniProt ID (e.g. KLRG2_HUMAN), \n",
    "# UniProt Accession (e.g. A4D1S0) or Complex name (e.g. 12oxoLeukotrieneB4_byPTGR1)\n",
    "(results, complex_name2proteins_text) = search_utils.search('ENSG00000134780,integrin_a10b1_complex', cpdb_dir)\n",
    "# Display results in a html table\n",
    "# Note: Mouse over complex names to see constituent proteins\n",
    "display(HTML(search_utils.get_html_table(results, complex_name2proteins_text)))\n",
    "# Optionally, save results_csv to a file\n",
    "# file_utils.write_to_csv(results, os.path.join(user_files_dir,\"cpdb_search_results.csv\"), delimiter=',')"
   ]
  },
  {
   "cell_type": "markdown",
   "metadata": {},
   "source": [
    "## Load User Files\n",
    "#### Note: User files are expected to be found in directory: \\<user_files_dir\\>"
   ]
  },
  {
   "cell_type": "code",
   "execution_count": null,
   "metadata": {},
   "outputs": [],
   "source": [
    "from cellphonedb.src.core.preprocessors import method_preprocessors, counts_preprocessors\n",
    "from cellphonedb.src.core.utils import subsampler\n",
    "from cellphonedb import controller\n",
    "\n",
    "counts, raw_meta, meta, microenvs, degs = controller.get_user_files(user_files_dir, \\\n",
    "#   counts_fn='test_counts.txt', \\\n",
    "    counts_fn='test.h5ad', \\\n",
    "    meta_fn='test_meta.txt', \\\n",
    "    microenvs_fn='test_microenviroments.txt', degs_fn='test_degs.txt')\n",
    "# Ensure that raw_meta has the expected columns and indexes\n",
    "meta = method_preprocessors.meta_preprocessor(raw_meta)\n",
    "# Ensure that counts values are of type float32, and that all cells in meta exist in counts\n",
    "counts = counts_preprocessors.counts_preprocessor(counts, meta)\n",
    "# If need be, sub-sample data using https://github.com/brianhie/geosketch library to speed up statistical analysis   \n",
    "# ss = subsampler.Subsampler(log=False, num_pc=100, num_cells=None, verbose=False, debug_seed=None)\n",
    "ss = None\n",
    "if ss is not None: \n",
    "    counts = ss.subsample(counts)"
   ]
  },
  {
   "cell_type": "markdown",
   "metadata": {},
   "source": [
    "## Run Basic Analysis"
   ]
  },
  {
   "cell_type": "code",
   "execution_count": null,
   "metadata": {},
   "outputs": [],
   "source": [
    "from cellphonedb.src.core.methods import cpdb_analysis_method\n",
    "\n",
    "data_dir = cpdb_dir\n",
    "# Use the following if you generated your own *_input.csv files and CellphoneDB database\n",
    "# data_dir = generated_cpdb_dir\n",
    "means, significant_means, deconvoluted = cpdb_analysis_method.call(\n",
    "    data_dir,\n",
    "    meta,\n",
    "    counts,\n",
    "    'ensembl',\n",
    "    microenvs=microenvs,\n",
    "    debug=False,\n",
    "    output_path=os.path.join(user_files_dir,'out'))\n",
    "# print(means.info)\n",
    "# print(significant_means.info)\n",
    "# print(deconvoluted.info)"
   ]
  },
  {
   "cell_type": "markdown",
   "metadata": {},
   "source": [
    "## Run Statistical Analysis"
   ]
  },
  {
   "cell_type": "code",
   "execution_count": null,
   "metadata": {},
   "outputs": [],
   "source": [
    "from cellphonedb.src.core.methods import cpdb_statistical_analysis_method\n",
    "\n",
    "data_dir = cpdb_dir\n",
    "# Use the following if you generated your own *_input.csv files and CellphoneDB database\n",
    "# data_dir = generated_cpdb_dir\n",
    "deconvoluted, means, pvalues, significant_means = \\\n",
    "    cpdb_statistical_analysis_method.call(\n",
    "        data_dir,\n",
    "        meta,\n",
    "        counts,\n",
    "        'ensembl',\n",
    "        microenvs=microenvs,\n",
    "        iterations = 1000,\n",
    "        threshold = 0.1,\n",
    "        threads = 4,\n",
    "        debug_seed = -1,\n",
    "        result_precision = 3,\n",
    "        pvalue = 0.05,\n",
    "        separator = '|',\n",
    "        debug = False,\n",
    "        output_path = '')\n",
    "# print(deconvoluted.info)\n",
    "# print(means.info)\n",
    "# print(pvalues.info)\n",
    "# print(significant_means.info)\n"
   ]
  },
  {
   "cell_type": "markdown",
   "metadata": {},
   "source": [
    "## Run Differential Analysis"
   ]
  },
  {
   "cell_type": "code",
   "execution_count": null,
   "metadata": {},
   "outputs": [],
   "source": [
    "from cellphonedb.src.core.methods import cpdb_degs_analysis_method\n",
    "\n",
    "data_dir = cpdb_dir\n",
    "# Use the following if you generated your own *_input.csv files and CellphoneDB database\n",
    "# data_dir = generated_cpdb_dir\n",
    "deconvoluted, means, relevant_interactions, significant_means = \\\n",
    "    cpdb_degs_analysis_method.call(\n",
    "        data_dir,\n",
    "        meta,\n",
    "        counts,\n",
    "        degs,\n",
    "        'ensembl',\n",
    "        microenvs=microenvs,\n",
    "        threshold = 0.1,\n",
    "        debug_seed = -1,\n",
    "        result_precision = 3,\n",
    "        separator = '|',\n",
    "        debug = False,\n",
    "        output_path = '')\n",
    "# print(deconvoluted.info)\n",
    "# print(means.info)\n",
    "# print(relevant_interactions.info)\n",
    "# print(significant_means.info)"
   ]
  },
  {
   "cell_type": "markdown",
   "metadata": {},
   "source": [
    "## Plot Statistical Analysis results"
   ]
  },
  {
   "cell_type": "code",
   "execution_count": null,
   "metadata": {
    "scrolled": true
   },
   "outputs": [],
   "source": [
    "import warnings\n",
    "warnings.filterwarnings('ignore')\n",
    "from ktplotspy.plot import plot_cpdb, plot_cpdb_heatmap\n",
    "from cellphonedb.utils import file_utils\n",
    "import os\n",
    "\n",
    "meta_fn='test_meta.txt'\n",
    "# counts_fn='test_counts.txt'\n",
    "counts_fn='test.h5ad'\n",
    "# Create AnnData object with obs set to a DataFrame containing data from meta_fn\n",
    "adata = file_utils.get_counts_meta_adata(user_files_dir, counts_fn, meta_fn)\n",
    "\n",
    "# Exmaple dot plot\n",
    "g1 = plot_cpdb(\n",
    "        adata=adata,\n",
    "        cell_type1=\"Myeloid\",\n",
    "        # '.' means any cell type\n",
    "        cell_type2=\".\",\n",
    "        means=means,\n",
    "        pvals=pvalues,\n",
    "        celltype_key=\"cell_type\",\n",
    "        genes=[\"FN1\", \"integrin-a5b1-complex\",\"COLEC12\"],\n",
    "        title=\"Example dot plot\"\n",
    "    )\n",
    "\n",
    "# Example heatmap\n",
    "g2 = plot_cpdb_heatmap(\n",
    "        adata=adata,\n",
    "        pvals=pvalues,\n",
    "        celltype_key=\"cell_type\",\n",
    "        log1p_transform=True,\n",
    "        title=\"Example heatmap\"\n",
    "    )\n",
    "g1, g2\n"
   ]
  },
  {
   "cell_type": "code",
   "execution_count": null,
   "metadata": {},
   "outputs": [],
   "source": []
  }
 ],
 "metadata": {
  "kernelspec": {
   "display_name": "‘cpdb’",
   "language": "python",
   "name": "python3"
  },
  "language_info": {
   "codemirror_mode": {
    "name": "ipython",
    "version": 3
   },
   "file_extension": ".py",
   "mimetype": "text/x-python",
   "name": "python",
   "nbconvert_exporter": "python",
   "pygments_lexer": "ipython3",
   "version": "3.9.16"
  }
 },
 "nbformat": 4,
 "nbformat_minor": 4
}
