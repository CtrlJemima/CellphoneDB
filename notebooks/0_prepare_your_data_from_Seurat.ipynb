{
 "cells": [
  {
   "cell_type": "markdown",
   "metadata": {},
   "source": [
    "# Example 2\n",
    "## Step 0 - prepare your data\n",
    "\n",
    "Prepare cellphoneDB inputs starting from a seurat object object"
   ]
  },
  {
   "cell_type": "code",
   "execution_count": 2,
   "metadata": {
    "vscode": {
     "languageId": "r"
    }
   },
   "outputs": [
    {
     "name": "stderr",
     "output_type": "stream",
     "text": [
      "Registered S3 methods overwritten by 'SeuratObject':\n",
      "  method                     from  \n",
      "  $.JackStrawData            Seurat\n",
      "  $.Seurat                   Seurat\n",
      "  $.SeuratCommand            Seurat\n",
      "  $<-.Seurat                 Seurat\n",
      "  [.Assay                    Seurat\n",
      "  [.DimReduc                 Seurat\n",
      "  [.Seurat                   Seurat\n",
      "  [.SeuratCommand            Seurat\n",
      "  [.SpatialImage             Seurat\n",
      "  [[.Assay                   Seurat\n",
      "  [[.DimReduc                Seurat\n",
      "  [[.Seurat                  Seurat\n",
      "  levels<-.Seurat            Seurat\n",
      "  .DollarNames.JackStrawData Seurat\n",
      "  .DollarNames.Seurat        Seurat\n",
      "  .DollarNames.SeuratCommand Seurat\n",
      "  as.list.SeuratCommand      Seurat\n",
      "  as.logical.JackStrawData   Seurat\n",
      "  dim.Assay                  Seurat\n",
      "  dim.DimReduc               Seurat\n",
      "  dim.Neighbor               Seurat\n",
      "  dim.Seurat                 Seurat\n",
      "  dim.SpatialImage           Seurat\n",
      "  dimnames.Assay             Seurat\n",
      "  dimnames.DimReduc          Seurat\n",
      "  dimnames.Seurat            Seurat\n",
      "  droplevels.Seurat          Seurat\n",
      "  length.DimReduc            Seurat\n",
      "  levels.Seurat              Seurat\n",
      "  merge.Assay                Seurat\n",
      "  merge.Seurat               Seurat\n",
      "  names.DimReduc             Seurat\n",
      "  names.Seurat               Seurat\n",
      "  print.DimReduc             Seurat\n",
      "  subset.Assay               Seurat\n",
      "  subset.DimReduc            Seurat\n",
      "  subset.Seurat              Seurat\n",
      "  subset.SpatialImage        Seurat\n",
      "\n",
      "\n",
      "Attaching package: ‘SeuratObject’\n",
      "\n",
      "\n",
      "The following objects are masked from ‘package:Seurat’:\n",
      "\n",
      "    AddMetaData, as.Graph, as.Neighbor, as.Seurat, as.sparse, Assays,\n",
      "    Cells, CellsByIdentities, Command, CreateAssayObject,\n",
      "    CreateDimReducObject, CreateSeuratObject, DefaultAssay,\n",
      "    DefaultAssay<-, Distances, Embeddings, FetchData, GetAssayData,\n",
      "    GetImage, GetTissueCoordinates, HVFInfo, Idents, Idents<-, Images,\n",
      "    Index, Index<-, Indices, IsGlobal, JS, JS<-, Key, Key<-, Loadings,\n",
      "    Loadings<-, LogSeuratCommand, Misc, Misc<-, Neighbors, pbmc_small,\n",
      "    Project, Project<-, Radius, Reductions, RenameAssays, RenameCells,\n",
      "    RenameIdents, ReorderIdent, RowMergeSparseMatrices, SetAssayData,\n",
      "    SetIdent, SpatiallyVariableFeatures, StashIdent, Stdev, SVFInfo,\n",
      "    Tool, Tool<-, UpdateSeuratObject, VariableFeatures,\n",
      "    VariableFeatures<-, WhichCells\n",
      "\n",
      "\n"
     ]
    }
   ],
   "source": [
    "library(Seurat)\n",
    "library(SeuratObject)\n",
    "library(Matrix)"
   ]
  },
  {
   "cell_type": "markdown",
   "metadata": {},
   "source": [
    "### 1. Load seurat object\n",
    "\n",
    "The seurat object contains counts that have been normalized (per cell) and log-transformed.\n",
    "If your data are raw counts, please normalize accordingly"
   ]
  },
  {
   "cell_type": "code",
   "execution_count": 3,
   "metadata": {
    "vscode": {
     "languageId": "r"
    }
   },
   "outputs": [],
   "source": [
    "so = readRDS('endometrium_example_counts_seurat.rds')"
   ]
  },
  {
   "cell_type": "code",
   "execution_count": 4,
   "metadata": {
    "vscode": {
     "languageId": "r"
    }
   },
   "outputs": [
    {
     "data": {
      "text/plain": [
       "An object of class Seurat \n",
       "20975 features across 1949 samples within 1 assay \n",
       "Active assay: RNA (20975 features, 0 variable features)"
      ]
     },
     "metadata": {},
     "output_type": "display_data"
    }
   ],
   "source": [
    "so"
   ]
  },
  {
   "cell_type": "code",
   "execution_count": 5,
   "metadata": {
    "vscode": {
     "languageId": "r"
    }
   },
   "outputs": [],
   "source": [
    "Idents(so) = so$cell_type"
   ]
  },
  {
   "cell_type": "code",
   "execution_count": 13,
   "metadata": {
    "vscode": {
     "languageId": "r"
    }
   },
   "outputs": [],
   "source": [
    "# # If your data is not normalize, do it accordinlgy\n",
    "# # For example\n",
    "# so <- NormalizeData(object = so)"
   ]
  },
  {
   "cell_type": "markdown",
   "metadata": {},
   "source": [
    "### 2. Write gene expression in mtx format\n"
   ]
  },
  {
   "cell_type": "code",
   "execution_count": 6,
   "metadata": {
    "vscode": {
     "languageId": "r"
    }
   },
   "outputs": [
    {
     "data": {
      "text/plain": [
       "NULL"
      ]
     },
     "metadata": {},
     "output_type": "display_data"
    }
   ],
   "source": [
    "# Save normalised counts - NOT scaled!\n",
    "writeMM(so@assays$RNA@data, file = 'endometrium_example_counts_mtx/matrix.mtx')\n",
    "# save gene and cell names\n",
    "write(x = rownames(so@assays$RNA@data), file = \"endometrium_example_counts_mtx/features.tsv\")\n",
    "write(x = colnames(so@assays$RNA@data), file = \"endometrium_example_counts_mtx/barcodes.tsv\")"
   ]
  },
  {
   "cell_type": "markdown",
   "metadata": {},
   "source": [
    "### 3. Generate your meta\n",
    "\n",
    "In this example, our input is an anndata containing the cluster/celltype information in `metadat$'cell_type'`\n",
    "\n",
    "The object also has `metadat$'lineage'` information wich will be used below for a hierarchical DEGs approach. "
   ]
  },
  {
   "cell_type": "code",
   "execution_count": 14,
   "metadata": {
    "vscode": {
     "languageId": "r"
    }
   },
   "outputs": [
    {
     "data": {
      "text/plain": [
       "\n",
       "      Endothelial ACKR1      Endothelial SEMA3G           Fibroblast C7 \n",
       "                    100                     100                     100 \n",
       "          Fibroblast dS           Fibroblast eS                Lymphoid \n",
       "                    100                     100                     100 \n",
       "                Myeloid                PV MYH11               PV STEAP4 \n",
       "                    100                     100                     100 \n",
       "           epi_Ciliated       epi_Ciliated LRG5           epi_Glandular \n",
       "                    100                     100                     100 \n",
       "epi_Glandular_secretory           epi_Lumenal 1           epi_Lumenal 2 \n",
       "                    100                     100                     100 \n",
       "       epi_Pre-ciliated                epi_SOX9           epi_SOX9_LGR5 \n",
       "                     49                     100                     100 \n",
       "        epi_SOX9_prolif                    uSMC \n",
       "                    100                     100 "
      ]
     },
     "metadata": {},
     "output_type": "display_data"
    }
   ],
   "source": [
    "table(so@meta.data$cell_type)"
   ]
  },
  {
   "cell_type": "code",
   "execution_count": 8,
   "metadata": {
    "vscode": {
     "languageId": "r"
    }
   },
   "outputs": [],
   "source": [
    "so@meta.data$Cell = rownames(so@meta.data)\n",
    "df = so@meta.data[, c('Cell', 'cell_type')]\n",
    "write.table(df, file ='endometrium_example_meta.tsv', sep = '\\t', quote = F, row.names = F)"
   ]
  },
  {
   "cell_type": "markdown",
   "metadata": {},
   "source": [
    "### 4. Compute DEGs (optional)\n",
    "\n",
    "Use Seurat `FindAllMarkers` to compute differentially expressed genes and extract the corresponding data frame `DEGs`.\n",
    "Here there are three options you may be interested on:\n",
    "1. Identify DEGs for each cell type (compare cell type vs rest, most likely option) \n",
    "2. Identify DEGs for each cell type using a per-lineage hierarchycal approach (compare cell type vs rest in the lineage, such as in endometrium paper Garcia-Alonso et al 2021)\n",
    "\n",
    "In the endometrium paper (Garcia-Alonso et al 2021) we're interested in the differences within the stromal and epithelial lineages, rather than the commonalities (example, what is specific of epithelials in the glands compared to epithelials in the lumen). The reason is that epithelial and stromal subtypes vary in space and type and thus we wanna extract the subtile differences within the lineage to better understand their differential location/ biological role.\n"
   ]
  },
  {
   "cell_type": "code",
   "execution_count": 16,
   "metadata": {
    "vscode": {
     "languageId": "r"
    }
   },
   "outputs": [
    {
     "name": "stderr",
     "output_type": "stream",
     "text": [
      "Computing DEGs within linage Epithelial\n",
      "\n",
      "For a more efficient implementation of the Wilcoxon Rank Sum Test,\n",
      "(default method for FindMarkers) please install the limma package\n",
      "--------------------------------------------\n",
      "install.packages('BiocManager')\n",
      "BiocManager::install('limma')\n",
      "--------------------------------------------\n",
      "After installation of limma, Seurat will automatically use the more \n",
      "efficient implementation (no further action necessary).\n",
      "This message will be shown once per session\n",
      "\n"
     ]
    }
   ],
   "source": [
    "## OPTION 1 - compute DEGs for all cell types\n",
    "## Extract DEGs for each cell_type\n",
    "# DEGs <- FindAllMarkers(so, \n",
    "#                        test.use = 'LR', \n",
    "#                        verbose = F, \n",
    "#                        only.pos = T, \n",
    "#                        random.seed = 1, \n",
    "#                        logfc.threshold = 0.2, \n",
    "#                        min.pct = 0.1, \n",
    "#                        return.thresh = 0.05)\n",
    "\n",
    "\n",
    "# OPTION 2 - optional - Re-compute  hierarchical (per lineage) DEGs for Epithelial and Stromal lineages\n",
    "DEGs = c()\n",
    "for( lin in c('Epithelial', 'Stromal') ){\n",
    "    message('Computing DEGs within linage ', lin)\n",
    "    so_in_lineage = subset(so, cells = Cells(so)[ so$lineage == lin ] )\n",
    "    celltye_in_lineage = unique(so$cell_type[ so$lineage == lin ])\n",
    "    DEGs_lin = FindAllMarkers(so_in_lineage,\n",
    "                       verbose = F, \n",
    "                       only.pos = T, \n",
    "                       random.seed = 1, \n",
    "                       logfc.threshold = 0, \n",
    "                       min.pct = 0.1, \n",
    "                       return.thresh = 0.05)\n",
    "    DEGs = rbind(DEGs_lin, DEGs)\n",
    "}"
   ]
  },
  {
   "cell_type": "code",
   "execution_count": 18,
   "metadata": {
    "vscode": {
     "languageId": "r"
    }
   },
   "outputs": [
    {
     "data": {
      "text/html": [
       "TRUE"
      ],
      "text/latex": [
       "TRUE"
      ],
      "text/markdown": [
       "TRUE"
      ],
      "text/plain": [
       "[1] TRUE"
      ]
     },
     "metadata": {},
     "output_type": "display_data"
    }
   ],
   "source": [
    "'DKK1' %in% rownames(so@assays$RNA@counts)"
   ]
  },
  {
   "cell_type": "code",
   "execution_count": 10,
   "metadata": {
    "vscode": {
     "languageId": "r"
    }
   },
   "outputs": [],
   "source": [
    "fDEGs = subset(DEGs, p_val_adj < 0.05 & avg_logFC > 0.1)\n",
    "\n",
    "# 1st column = cluster; 2nd column = gene \n",
    "fDEGs = fDEGs[, c('cluster', 'gene', 'p_val_adj', 'p_val', 'avg_logFC', 'pct.1', 'pct.2')] \n",
    "write.table(fDEGs, file ='endometrium_example_DEGs.tsv', sep = '\\t', quote = F, row.names = F)"
   ]
  },
  {
   "cell_type": "code",
   "execution_count": 12,
   "metadata": {
    "vscode": {
     "languageId": "r"
    }
   },
   "outputs": [
    {
     "data": {
      "text/html": [
       "<table class=\"dataframe\">\n",
       "<caption>A data.frame: 6 × 7</caption>\n",
       "<thead>\n",
       "\t<tr><th></th><th scope=col>cluster</th><th scope=col>gene</th><th scope=col>p_val_adj</th><th scope=col>p_val</th><th scope=col>avg_logFC</th><th scope=col>pct.1</th><th scope=col>pct.2</th></tr>\n",
       "\t<tr><th></th><th scope=col>&lt;fct&gt;</th><th scope=col>&lt;chr&gt;</th><th scope=col>&lt;dbl&gt;</th><th scope=col>&lt;dbl&gt;</th><th scope=col>&lt;dbl&gt;</th><th scope=col>&lt;dbl&gt;</th><th scope=col>&lt;dbl&gt;</th></tr>\n",
       "</thead>\n",
       "<tbody>\n",
       "\t<tr><th scope=row>GSN</th><td>Fibroblast C7</td><td>GSN   </td><td>4.870313e-35</td><td>2.321961e-39</td><td>1.9457498</td><td>0.91</td><td>0.725</td></tr>\n",
       "\t<tr><th scope=row>IGFBP5</th><td>Fibroblast C7</td><td>IGFBP5</td><td>8.424704e-32</td><td>4.016545e-36</td><td>2.4430177</td><td>0.94</td><td>0.520</td></tr>\n",
       "\t<tr><th scope=row>RPL21</th><td>Fibroblast C7</td><td>RPL21 </td><td>5.587104e-31</td><td>2.663697e-35</td><td>0.9103342</td><td>1.00</td><td>0.990</td></tr>\n",
       "\t<tr><th scope=row>RPS27</th><td>Fibroblast C7</td><td>RPS27 </td><td>1.667606e-29</td><td>7.950448e-34</td><td>0.6828038</td><td>1.00</td><td>1.000</td></tr>\n",
       "\t<tr><th scope=row>ASPN</th><td>Fibroblast C7</td><td>ASPN  </td><td>6.253001e-26</td><td>2.981168e-30</td><td>1.8471276</td><td>0.55</td><td>0.025</td></tr>\n",
       "\t<tr><th scope=row>C7</th><td>Fibroblast C7</td><td>C7    </td><td>2.526954e-24</td><td>1.204746e-28</td><td>1.9273415</td><td>0.51</td><td>0.020</td></tr>\n",
       "</tbody>\n",
       "</table>\n"
      ],
      "text/latex": [
       "A data.frame: 6 × 7\n",
       "\\begin{tabular}{r|lllllll}\n",
       "  & cluster & gene & p\\_val\\_adj & p\\_val & avg\\_logFC & pct.1 & pct.2\\\\\n",
       "  & <fct> & <chr> & <dbl> & <dbl> & <dbl> & <dbl> & <dbl>\\\\\n",
       "\\hline\n",
       "\tGSN & Fibroblast C7 & GSN    & 4.870313e-35 & 2.321961e-39 & 1.9457498 & 0.91 & 0.725\\\\\n",
       "\tIGFBP5 & Fibroblast C7 & IGFBP5 & 8.424704e-32 & 4.016545e-36 & 2.4430177 & 0.94 & 0.520\\\\\n",
       "\tRPL21 & Fibroblast C7 & RPL21  & 5.587104e-31 & 2.663697e-35 & 0.9103342 & 1.00 & 0.990\\\\\n",
       "\tRPS27 & Fibroblast C7 & RPS27  & 1.667606e-29 & 7.950448e-34 & 0.6828038 & 1.00 & 1.000\\\\\n",
       "\tASPN & Fibroblast C7 & ASPN   & 6.253001e-26 & 2.981168e-30 & 1.8471276 & 0.55 & 0.025\\\\\n",
       "\tC7 & Fibroblast C7 & C7     & 2.526954e-24 & 1.204746e-28 & 1.9273415 & 0.51 & 0.020\\\\\n",
       "\\end{tabular}\n"
      ],
      "text/markdown": [
       "\n",
       "A data.frame: 6 × 7\n",
       "\n",
       "| <!--/--> | cluster &lt;fct&gt; | gene &lt;chr&gt; | p_val_adj &lt;dbl&gt; | p_val &lt;dbl&gt; | avg_logFC &lt;dbl&gt; | pct.1 &lt;dbl&gt; | pct.2 &lt;dbl&gt; |\n",
       "|---|---|---|---|---|---|---|---|\n",
       "| GSN | Fibroblast C7 | GSN    | 4.870313e-35 | 2.321961e-39 | 1.9457498 | 0.91 | 0.725 |\n",
       "| IGFBP5 | Fibroblast C7 | IGFBP5 | 8.424704e-32 | 4.016545e-36 | 2.4430177 | 0.94 | 0.520 |\n",
       "| RPL21 | Fibroblast C7 | RPL21  | 5.587104e-31 | 2.663697e-35 | 0.9103342 | 1.00 | 0.990 |\n",
       "| RPS27 | Fibroblast C7 | RPS27  | 1.667606e-29 | 7.950448e-34 | 0.6828038 | 1.00 | 1.000 |\n",
       "| ASPN | Fibroblast C7 | ASPN   | 6.253001e-26 | 2.981168e-30 | 1.8471276 | 0.55 | 0.025 |\n",
       "| C7 | Fibroblast C7 | C7     | 2.526954e-24 | 1.204746e-28 | 1.9273415 | 0.51 | 0.020 |\n",
       "\n"
      ],
      "text/plain": [
       "       cluster       gene   p_val_adj    p_val        avg_logFC pct.1 pct.2\n",
       "GSN    Fibroblast C7 GSN    4.870313e-35 2.321961e-39 1.9457498 0.91  0.725\n",
       "IGFBP5 Fibroblast C7 IGFBP5 8.424704e-32 4.016545e-36 2.4430177 0.94  0.520\n",
       "RPL21  Fibroblast C7 RPL21  5.587104e-31 2.663697e-35 0.9103342 1.00  0.990\n",
       "RPS27  Fibroblast C7 RPS27  1.667606e-29 7.950448e-34 0.6828038 1.00  1.000\n",
       "ASPN   Fibroblast C7 ASPN   6.253001e-26 2.981168e-30 1.8471276 0.55  0.025\n",
       "C7     Fibroblast C7 C7     2.526954e-24 1.204746e-28 1.9273415 0.51  0.020"
      ]
     },
     "metadata": {},
     "output_type": "display_data"
    }
   ],
   "source": [
    "head(fDEGs)"
   ]
  }
 ],
 "metadata": {
  "kernelspec": {
   "display_name": "R",
   "language": "R",
   "name": "ir"
  },
  "language_info": {
   "codemirror_mode": "r",
   "file_extension": ".r",
   "mimetype": "text/x-r-source",
   "name": "R",
   "pygments_lexer": "r",
   "version": "4.0.3"
  }
 },
 "nbformat": 4,
 "nbformat_minor": 4
}
