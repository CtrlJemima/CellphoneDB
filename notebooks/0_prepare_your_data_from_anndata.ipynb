{
 "cells": [
  {
   "cell_type": "markdown",
   "metadata": {},
   "source": [
    "# Example 1\n",
    "## Step 0 - prepare your data\n",
    "\n",
    "Prepare cellphoneDB inputs starting from an anndata object object"
   ]
  },
  {
   "cell_type": "code",
   "execution_count": 1,
   "metadata": {
    "vscode": {
     "languageId": "python"
    }
   },
   "outputs": [
    {
     "data": {
      "text/plain": [
       "'/home/jovyan/my-conda-envs/sc_analysis/bin/python'"
      ]
     },
     "execution_count": 1,
     "metadata": {},
     "output_type": "execute_result"
    }
   ],
   "source": [
    "import numpy as np\n",
    "import pandas as pd\n",
    "import scanpy as sc\n",
    "import anndata\n",
    "import os\n",
    "import sys\n",
    "from scipy import sparse\n",
    "\n",
    "\n",
    "\n",
    "sc.settings.verbosity = 1  # verbosity: errors (0), warnings (1), info (2), hints (3)\n",
    "sys.executable"
   ]
  },
  {
   "cell_type": "markdown",
   "metadata": {},
   "source": [
    "\n",
    "### 1. Load andata"
   ]
  },
  {
   "cell_type": "markdown",
   "metadata": {},
   "source": [
    "The anndata object contains counts that have been normalized (per cell) and log-transformed."
   ]
  },
  {
   "cell_type": "code",
   "execution_count": 2,
   "metadata": {
    "vscode": {
     "languageId": "python"
    }
   },
   "outputs": [],
   "source": [
    "adata = sc.read('endometrium_example_counts.h5ad')"
   ]
  },
  {
   "cell_type": "markdown",
   "metadata": {},
   "source": [
    "### 2. Generate your meta\n",
    "\n",
    "In this example, our input is an anndata containing the cluster/celltype information in anndata.obs['cell_type']\n",
    "\n",
    "The object also has anndata.obs['lineage'] information wich will be used below for a hierarchical DEGs approach. "
   ]
  },
  {
   "cell_type": "code",
   "execution_count": 3,
   "metadata": {
    "vscode": {
     "languageId": "python"
    }
   },
   "outputs": [
    {
     "data": {
      "text/html": [
       "<div>\n",
       "<style scoped>\n",
       "    .dataframe tbody tr th:only-of-type {\n",
       "        vertical-align: middle;\n",
       "    }\n",
       "\n",
       "    .dataframe tbody tr th {\n",
       "        vertical-align: top;\n",
       "    }\n",
       "\n",
       "    .dataframe thead th {\n",
       "        text-align: right;\n",
       "    }\n",
       "</style>\n",
       "<table border=\"1\" class=\"dataframe\">\n",
       "  <thead>\n",
       "    <tr style=\"text-align: right;\">\n",
       "      <th></th>\n",
       "      <th>counts</th>\n",
       "      <th>freqs</th>\n",
       "    </tr>\n",
       "    <tr>\n",
       "      <th>categories</th>\n",
       "      <th></th>\n",
       "      <th></th>\n",
       "    </tr>\n",
       "  </thead>\n",
       "  <tbody>\n",
       "    <tr>\n",
       "      <th>Endothelial ACKR1</th>\n",
       "      <td>100</td>\n",
       "      <td>0.051308</td>\n",
       "    </tr>\n",
       "    <tr>\n",
       "      <th>Endothelial SEMA3G</th>\n",
       "      <td>100</td>\n",
       "      <td>0.051308</td>\n",
       "    </tr>\n",
       "    <tr>\n",
       "      <th>Fibroblast C7</th>\n",
       "      <td>100</td>\n",
       "      <td>0.051308</td>\n",
       "    </tr>\n",
       "    <tr>\n",
       "      <th>Fibroblast dS</th>\n",
       "      <td>100</td>\n",
       "      <td>0.051308</td>\n",
       "    </tr>\n",
       "    <tr>\n",
       "      <th>Fibroblast eS</th>\n",
       "      <td>100</td>\n",
       "      <td>0.051308</td>\n",
       "    </tr>\n",
       "    <tr>\n",
       "      <th>Lymphoid</th>\n",
       "      <td>100</td>\n",
       "      <td>0.051308</td>\n",
       "    </tr>\n",
       "    <tr>\n",
       "      <th>Myeloid</th>\n",
       "      <td>100</td>\n",
       "      <td>0.051308</td>\n",
       "    </tr>\n",
       "    <tr>\n",
       "      <th>PV MYH11</th>\n",
       "      <td>100</td>\n",
       "      <td>0.051308</td>\n",
       "    </tr>\n",
       "    <tr>\n",
       "      <th>PV STEAP4</th>\n",
       "      <td>100</td>\n",
       "      <td>0.051308</td>\n",
       "    </tr>\n",
       "    <tr>\n",
       "      <th>epi_Ciliated</th>\n",
       "      <td>100</td>\n",
       "      <td>0.051308</td>\n",
       "    </tr>\n",
       "    <tr>\n",
       "      <th>epi_Ciliated LRG5</th>\n",
       "      <td>100</td>\n",
       "      <td>0.051308</td>\n",
       "    </tr>\n",
       "    <tr>\n",
       "      <th>epi_Glandular</th>\n",
       "      <td>100</td>\n",
       "      <td>0.051308</td>\n",
       "    </tr>\n",
       "    <tr>\n",
       "      <th>epi_Glandular_secretory</th>\n",
       "      <td>100</td>\n",
       "      <td>0.051308</td>\n",
       "    </tr>\n",
       "    <tr>\n",
       "      <th>epi_Lumenal 1</th>\n",
       "      <td>100</td>\n",
       "      <td>0.051308</td>\n",
       "    </tr>\n",
       "    <tr>\n",
       "      <th>epi_Lumenal 2</th>\n",
       "      <td>100</td>\n",
       "      <td>0.051308</td>\n",
       "    </tr>\n",
       "    <tr>\n",
       "      <th>epi_Pre-ciliated</th>\n",
       "      <td>49</td>\n",
       "      <td>0.025141</td>\n",
       "    </tr>\n",
       "    <tr>\n",
       "      <th>epi_SOX9</th>\n",
       "      <td>100</td>\n",
       "      <td>0.051308</td>\n",
       "    </tr>\n",
       "    <tr>\n",
       "      <th>epi_SOX9_LGR5</th>\n",
       "      <td>100</td>\n",
       "      <td>0.051308</td>\n",
       "    </tr>\n",
       "    <tr>\n",
       "      <th>epi_SOX9_prolif</th>\n",
       "      <td>100</td>\n",
       "      <td>0.051308</td>\n",
       "    </tr>\n",
       "    <tr>\n",
       "      <th>uSMC</th>\n",
       "      <td>100</td>\n",
       "      <td>0.051308</td>\n",
       "    </tr>\n",
       "  </tbody>\n",
       "</table>\n",
       "</div>"
      ],
      "text/plain": [
       "                         counts     freqs\n",
       "categories                               \n",
       "Endothelial ACKR1           100  0.051308\n",
       "Endothelial SEMA3G          100  0.051308\n",
       "Fibroblast C7               100  0.051308\n",
       "Fibroblast dS               100  0.051308\n",
       "Fibroblast eS               100  0.051308\n",
       "Lymphoid                    100  0.051308\n",
       "Myeloid                     100  0.051308\n",
       "PV MYH11                    100  0.051308\n",
       "PV STEAP4                   100  0.051308\n",
       "epi_Ciliated                100  0.051308\n",
       "epi_Ciliated LRG5           100  0.051308\n",
       "epi_Glandular               100  0.051308\n",
       "epi_Glandular_secretory     100  0.051308\n",
       "epi_Lumenal 1               100  0.051308\n",
       "epi_Lumenal 2               100  0.051308\n",
       "epi_Pre-ciliated             49  0.025141\n",
       "epi_SOX9                    100  0.051308\n",
       "epi_SOX9_LGR5               100  0.051308\n",
       "epi_SOX9_prolif             100  0.051308\n",
       "uSMC                        100  0.051308"
      ]
     },
     "execution_count": 3,
     "metadata": {},
     "output_type": "execute_result"
    }
   ],
   "source": [
    "adata.obs['cell_type'].values.describe()"
   ]
  },
  {
   "cell_type": "code",
   "execution_count": 4,
   "metadata": {
    "vscode": {
     "languageId": "python"
    }
   },
   "outputs": [],
   "source": [
    "df_meta = pd.DataFrame(data={'Cell':list(adata.obs.index),\n",
    "                             'cell_type':[ i for i in adata.obs['cell_type']]\n",
    "                            })\n",
    "df_meta.set_index('Cell', inplace=True)\n",
    "df_meta.to_csv('endometrium_example_meta.tsv', sep = '\\t')"
   ]
  },
  {
   "cell_type": "markdown",
   "metadata": {},
   "source": [
    "### 3. Compute DEGs (optional)"
   ]
  },
  {
   "cell_type": "markdown",
   "metadata": {},
   "source": [
    "We will import out gene expression into Seurat using rpy2 so that we can estimate the differentially expressed genes using Seurat `FindAllMarkers` \n"
   ]
  },
  {
   "cell_type": "code",
   "execution_count": 5,
   "metadata": {
    "vscode": {
     "languageId": "python"
    }
   },
   "outputs": [],
   "source": [
    "# Conver to dense matrix for Seurat\n",
    "adata.X = adata.X.toarray()"
   ]
  },
  {
   "cell_type": "code",
   "execution_count": 6,
   "metadata": {
    "vscode": {
     "languageId": "python"
    }
   },
   "outputs": [],
   "source": [
    "import rpy2.rinterface_lib.callbacks\n",
    "import logging\n",
    "# Ignore R warning messages\n",
    "#Note: this can be commented out to get more verbose R output\n",
    "rpy2.rinterface_lib.callbacks.logger.setLevel(logging.ERROR)\n",
    "import anndata2ri\n",
    "anndata2ri.activate()\n",
    "%load_ext rpy2.ipython\n"
   ]
  },
  {
   "cell_type": "code",
   "execution_count": 7,
   "metadata": {
    "vscode": {
     "languageId": "python"
    }
   },
   "outputs": [
    {
     "name": "stdout",
     "output_type": "stream",
     "text": [
      "class: SingleCellExperiment \n",
      "dim: 20975 1949 \n",
      "metadata(0):\n",
      "assays(1): X\n",
      "rownames(20975): RP11-34P13.7 FO538757.2 ... AC004556.1 AC240274.1\n",
      "rowData names(2): gene_ids n_cells\n",
      "colnames(1949): 4861STDY7387181_AAACCTGAGGGCACTA\n",
      "  4861STDY7387181_AAACCTGTCAATAAGG ... GSM4577315_TTGTTCAAGCCACCGT\n",
      "  GSM4577315_TTTACGTTCGTAGGGA\n",
      "colData names(20): sample_names log2p1_count ... cell_type n_counts\n",
      "reducedDimNames(0):\n",
      "altExpNames(0):\n"
     ]
    }
   ],
   "source": [
    "%%R -i adata\n",
    "adata"
   ]
  },
  {
   "cell_type": "markdown",
   "metadata": {},
   "source": [
    "Use Seurat `FindAllMarkers` to compute differentially expressed genes and extract the corresponding data frame `DEGs`.\n",
    "Here there are three options you may be interested on:\n",
    "1. Identify DEGs for each cell type (compare cell type vs rest, most likely option) \n",
    "2. Identify DEGs for each cell type using a per-lineage hierarchycal approach (compare cell type vs rest in the lineage, such as in endometrium paper Garcia-Alonso et al 2021)\n",
    "\n",
    "In the endometrium paper (Garcia-Alonso et al 2021) we're interested in the differences within the stromal and epithelial lineages, rather than the commonalities (example, what is specific of epithelials in the glands compared to epithelials in the lumen). The reason is that epithelial and stromal subtypes vary in space and type and thus we wanna extract the subtile differences within the lineage to better understand their differential location/ biological role.\n"
   ]
  },
  {
   "cell_type": "code",
   "execution_count": 8,
   "metadata": {
    "vscode": {
     "languageId": "python"
    }
   },
   "outputs": [],
   "source": [
    "%%R -o DEGs\n",
    "\n",
    "library(Seurat)\n",
    "so = as.Seurat(adata, counts = \"X\", data = \"X\")\n",
    "Idents(so) = so$cell_type\n",
    "\n",
    "## OPTION 1 - compute DEGs for all cell types\n",
    "## Extract DEGs for each cell_type\n",
    "# DEGs <- FindAllMarkers(so, \n",
    "#                        test.use = 'LR', \n",
    "#                        verbose = F, \n",
    "#                        only.pos = T, \n",
    "#                        random.seed = 1, \n",
    "#                        logfc.threshold = 0.2, \n",
    "#                        min.pct = 0.1, \n",
    "#                        return.thresh = 0.05)\n",
    "\n",
    "\n",
    "# OPTION 2 - optional - Re-compute  hierarchical (per lineage) DEGs for Epithelial and Stromal lineages\n",
    "DEGs = c()\n",
    "for( lin in c('Epithelial', 'Stromal') ){\n",
    "    message('Computing DEGs within linage ', lin)\n",
    "    so_in_lineage = subset(so, cells = Cells(so)[ so$lineage == lin ] )\n",
    "    celltye_in_lineage = unique(so$cell_type[ so$lineage == lin ])\n",
    "    DEGs_lin = FindAllMarkers(so_in_lineage, \n",
    "                       test.use = 'LR', \n",
    "                       verbose = F, \n",
    "                       only.pos = T, \n",
    "                       random.seed = 1, \n",
    "                       logfc.threshold = 0.2, \n",
    "                       min.pct = 0.1, \n",
    "                       return.thresh = 0.05)\n",
    "    DEGs = rbind(DEGs_lin, DEGs)\n",
    "}"
   ]
  },
  {
   "cell_type": "markdown",
   "metadata": {},
   "source": [
    "Filter significant genes. Here we select genes with adjusted p-value `< 0.05` and average log FoldChange `>0.1`"
   ]
  },
  {
   "cell_type": "code",
   "execution_count": 9,
   "metadata": {
    "vscode": {
     "languageId": "python"
    }
   },
   "outputs": [
    {
     "data": {
      "text/html": [
       "<div>\n",
       "<style scoped>\n",
       "    .dataframe tbody tr th:only-of-type {\n",
       "        vertical-align: middle;\n",
       "    }\n",
       "\n",
       "    .dataframe tbody tr th {\n",
       "        vertical-align: top;\n",
       "    }\n",
       "\n",
       "    .dataframe thead th {\n",
       "        text-align: right;\n",
       "    }\n",
       "</style>\n",
       "<table border=\"1\" class=\"dataframe\">\n",
       "  <thead>\n",
       "    <tr style=\"text-align: right;\">\n",
       "      <th></th>\n",
       "      <th>p_val</th>\n",
       "      <th>avg_log2FC</th>\n",
       "      <th>pct.1</th>\n",
       "      <th>pct.2</th>\n",
       "      <th>p_val_adj</th>\n",
       "      <th>cluster</th>\n",
       "      <th>gene</th>\n",
       "    </tr>\n",
       "  </thead>\n",
       "  <tbody>\n",
       "    <tr>\n",
       "      <th>GSN</th>\n",
       "      <td>2.321961e-39</td>\n",
       "      <td>2.807124</td>\n",
       "      <td>0.91</td>\n",
       "      <td>0.725</td>\n",
       "      <td>4.870313e-35</td>\n",
       "      <td>Fibroblast C7</td>\n",
       "      <td>GSN</td>\n",
       "    </tr>\n",
       "    <tr>\n",
       "      <th>IGFBP5</th>\n",
       "      <td>4.016545e-36</td>\n",
       "      <td>3.524530</td>\n",
       "      <td>0.94</td>\n",
       "      <td>0.520</td>\n",
       "      <td>8.424704e-32</td>\n",
       "      <td>Fibroblast C7</td>\n",
       "      <td>IGFBP5</td>\n",
       "    </tr>\n",
       "    <tr>\n",
       "      <th>RPL21</th>\n",
       "      <td>2.663697e-35</td>\n",
       "      <td>1.313335</td>\n",
       "      <td>1.00</td>\n",
       "      <td>0.990</td>\n",
       "      <td>5.587104e-31</td>\n",
       "      <td>Fibroblast C7</td>\n",
       "      <td>RPL21</td>\n",
       "    </tr>\n",
       "    <tr>\n",
       "      <th>RPS27</th>\n",
       "      <td>7.950448e-34</td>\n",
       "      <td>0.985078</td>\n",
       "      <td>1.00</td>\n",
       "      <td>1.000</td>\n",
       "      <td>1.667606e-29</td>\n",
       "      <td>Fibroblast C7</td>\n",
       "      <td>RPS27</td>\n",
       "    </tr>\n",
       "    <tr>\n",
       "      <th>ASPN</th>\n",
       "      <td>2.981168e-30</td>\n",
       "      <td>2.664842</td>\n",
       "      <td>0.55</td>\n",
       "      <td>0.025</td>\n",
       "      <td>6.253001e-26</td>\n",
       "      <td>Fibroblast C7</td>\n",
       "      <td>ASPN</td>\n",
       "    </tr>\n",
       "  </tbody>\n",
       "</table>\n",
       "</div>"
      ],
      "text/plain": [
       "               p_val  avg_log2FC  pct.1  pct.2     p_val_adj        cluster  \\\n",
       "GSN     2.321961e-39    2.807124   0.91  0.725  4.870313e-35  Fibroblast C7   \n",
       "IGFBP5  4.016545e-36    3.524530   0.94  0.520  8.424704e-32  Fibroblast C7   \n",
       "RPL21   2.663697e-35    1.313335   1.00  0.990  5.587104e-31  Fibroblast C7   \n",
       "RPS27   7.950448e-34    0.985078   1.00  1.000  1.667606e-29  Fibroblast C7   \n",
       "ASPN    2.981168e-30    2.664842   0.55  0.025  6.253001e-26  Fibroblast C7   \n",
       "\n",
       "          gene  \n",
       "GSN        GSN  \n",
       "IGFBP5  IGFBP5  \n",
       "RPL21    RPL21  \n",
       "RPS27    RPS27  \n",
       "ASPN      ASPN  "
      ]
     },
     "execution_count": 9,
     "metadata": {},
     "output_type": "execute_result"
    }
   ],
   "source": [
    "DEGs.head()"
   ]
  },
  {
   "cell_type": "code",
   "execution_count": 10,
   "metadata": {
    "vscode": {
     "languageId": "python"
    }
   },
   "outputs": [],
   "source": [
    "cond1 = DEGs['p_val_adj'] < 0.05 \n",
    "cond2 = DEGs['avg_log2FC'] > 0.1\n",
    "mask = [all(tup) for tup in zip(cond1, cond2)]\n",
    "fDEGs = DEGs[mask]"
   ]
  },
  {
   "cell_type": "markdown",
   "metadata": {},
   "source": [
    "Save significant DEGs into a file.\n",
    "Important, the DEGs output file must contain \n",
    "- 1st column = cluster\n",
    "- 2nd column = gene \n",
    "- 3rd-Z columns = ignored"
   ]
  },
  {
   "cell_type": "code",
   "execution_count": 11,
   "metadata": {
    "vscode": {
     "languageId": "python"
    }
   },
   "outputs": [],
   "source": [
    "# 1st column = cluster; 2nd column = gene \n",
    "fDEGs = fDEGs[['cluster', 'gene', 'p_val_adj', 'p_val', 'avg_log2FC', 'pct.1', 'pct.2']] \n",
    "fDEGs.to_csv('endometrium_example_DEGs.tsv', index=False, sep='\\t')"
   ]
  }
 ],
 "metadata": {
  "kernelspec": {
   "display_name": "cpdb_robert",
   "language": "python",
   "name": "python3"
  }
 },
 "nbformat": 4,
 "nbformat_minor": 4
}
